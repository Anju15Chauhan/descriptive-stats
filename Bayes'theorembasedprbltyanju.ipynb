{
  "nbformat": 4,
  "nbformat_minor": 0,
  "metadata": {
    "colab": {
      "provenance": [],
      "authorship_tag": "ABX9TyOqG2tAjdmYnnGvfb1qfeaT",
      "include_colab_link": true
    },
    "kernelspec": {
      "name": "python3",
      "display_name": "Python 3"
    },
    "language_info": {
      "name": "python"
    }
  },
  "cells": [
    {
      "cell_type": "markdown",
      "metadata": {
        "id": "view-in-github",
        "colab_type": "text"
      },
      "source": [
        "<a href=\"https://colab.research.google.com/github/Anju15Chauhan/descriptive-stats/blob/main/Bayes'theorembasedprbltyanju.ipynb\" target=\"_parent\"><img src=\"https://colab.research.google.com/assets/colab-badge.svg\" alt=\"Open In Colab\"/></a>"
      ]
    },
    {
      "cell_type": "markdown",
      "source": [
        "**Bayes’Theorem**\n",
        "\n",
        " • It provides a way to calculate the probability of an event\n",
        "based onprior knowledgeor beliefsabout the event, and\n",
        "newevidenceor observations.\n",
        "\n",
        " • This theorem states that the probability of an event A given\n",
        "evidence B is proportional to the probability of evidence B\n",
        "given event A, multiplied by the prior probability of event\n",
        "A, and divided by the overallprobability of evidence B:\n",
        "\n",
        " P(A|B) = P(B|A) * P(A) / P(B)\n"
      ],
      "metadata": {
        "id": "ebcoCwsxPdS1"
      }
    },
    {
      "cell_type": "code",
      "execution_count": null,
      "metadata": {
        "id": "P2KUEqurPL4e"
      },
      "outputs": [],
      "source": [
        "import numpy as np\n",
        "import pandas as pd\n",
        "import matplotlib.pyplot as plt\n",
        "import seaborn as sns\n",
        "import scipy.stats as stats\n",
        "import statsmodels.api as sm\n"
      ]
    },
    {
      "cell_type": "markdown",
      "source": [
        "1. A test for a rare disease is 99% accurate, meaning it correctly identifies 99% of diseased individuals and correctly identifies 99% of healthy individuals. If 1 in 10,000 people have the disease, what is the probability that a person who tests positive actually has the disease?\n"
      ],
      "metadata": {
        "id": "hUcgwQOCQxlw"
      }
    },
    {
      "cell_type": "code",
      "source": [
        "# prior probability of having the disease\n",
        "p_disease = 0.99\n",
        "\n",
        "# prior probability of not having the disease\n",
        "p_not_disease = 0.01\n",
        "\n",
        "# probability of correctly identifying a positive test result\n",
        "p_positive = 0.99\n",
        "\n",
        "# probability of correctly identifying a negative test result\n",
        "p_negative = 0.9\n",
        "\n",
        "# probability of a person having the disease given a positive test result\n",
        "p_disease_given_positive = p_positive * p_disease / p_positive\n",
        "\n",
        "# probability of a person not having the disease given a negative test result\n",
        "p_not_disease_given_negative = p_negative * p_not_disease / p_negative\n",
        "\n",
        "# probability of a person having the disease\n",
        "p_disease = p_disease_given_positive * p_disease + p_not_disease_given_negative * p_not_disease\n",
        "\n",
        "print(\"Probability of having the disease given a positive test result:\", p_disease_given_positive)\n",
        "print(\"Probability of not having the disease given a negative test result:\", p_not_disease_given_negative)\n",
        "print(\"Probability of having the disease:\", p_disease)"
      ],
      "metadata": {
        "colab": {
          "base_uri": "https://localhost:8080/"
        },
        "id": "jDhLmeHfQUPH",
        "outputId": "e9973b94-6d62-4935-e3c9-8f6e9c559e99"
      },
      "execution_count": null,
      "outputs": [
        {
          "output_type": "stream",
          "name": "stdout",
          "text": [
            "Probability of having the disease given a positive test result: 0.99\n",
            "Probability of not having the disease given a negative test result: 0.01\n",
            "Probability of having the disease: 0.9802\n"
          ]
        }
      ]
    },
    {
      "cell_type": "markdown",
      "source": [
        "2. A factory produces 1% defective items. A quality control test correctly identifies defective items 95% of the time and correctly identifies non-defective items 90% of the time. What is the probability that an item is defective given that it failed the test?\n"
      ],
      "metadata": {
        "id": "oMrx6lRFTuSR"
      }
    },
    {
      "cell_type": "code",
      "source": [
        "# Prior probability of having defective items\n",
        "p_defective = 0.01\n",
        "\n",
        "# Prior probability of not having defective items\n",
        "p_not_defective = 0.99\n",
        "\n",
        "# Probability of correctly identifying a defective item\n",
        "p_defective_given_test = 0.95\n",
        "\n",
        "# Probability of correctly identifying a non-defective item\n",
        "p_not_defective_given_test = 0.9\n",
        "\n",
        "# Probaility of defective given but failed in test\n",
        "p_defective_given_failed = 0.05\n",
        "\n",
        "# Probaility of not defective given but failed in test\n",
        "p_not_defective_given_failed = 0.00\n",
        "\n",
        "print(p_defective_given_test * p_defective)\n"
      ],
      "metadata": {
        "colab": {
          "base_uri": "https://localhost:8080/"
        },
        "id": "F0HinAfyU2Nq",
        "outputId": "61fd438a-95d4-497d-af1a-d8f38e2f33ab"
      },
      "execution_count": null,
      "outputs": [
        {
          "output_type": "stream",
          "name": "stdout",
          "text": [
            "0.0095\n"
          ]
        }
      ]
    },
    {
      "cell_type": "markdown",
      "source": [
        "3. In a certain city, 2% of the population are fluent in French. A language test correctly identifies 98% of French speakers and incorrectly identifies 5% of non-French speakers as fluent. What is the probability that a person who tests fluent in French actually is fluent?\n"
      ],
      "metadata": {
        "id": "EFIYlx9IWNk_"
      }
    },
    {
      "cell_type": "code",
      "source": [
        "# prior probability of having fluent french speakers\n",
        "p_french = 0.02\n",
        "\n",
        "# prior probability of not having fluent french speakers\n",
        "p_not_french = 0.98\n",
        "\n",
        "# probability of correctly identifying a french speaker\n",
        "p_french_given_test = 0.98\n",
        "\n",
        "# probability of incorrectly identifying a non-french speaker\n",
        "p_not_french_given_test = 0.05\n",
        "\n",
        "# probability of a person having fluent french speakers\n",
        "p_french = p_french_given_test * p_french + p_not_french_given_test * p_not_french\n",
        "\n",
        "print(\"Probability of having fluent french speakers given a positive test result:\", p_french_given_test)\n",
        "print(\"Probability of not having fluent french speakers given a negative test result:\", p_not_french_given_test)\n",
        "print(\"Probability of having fluent french speakers:\", p_french)\n",
        "\n"
      ],
      "metadata": {
        "colab": {
          "base_uri": "https://localhost:8080/"
        },
        "id": "5DPvAVT8WAKR",
        "outputId": "215ed84b-3f73-489e-a35d-fa6436bcbe36"
      },
      "execution_count": null,
      "outputs": [
        {
          "output_type": "stream",
          "name": "stdout",
          "text": [
            "Probability of having fluent french speakers given a positive test result: 0.98\n",
            "Probability of not having fluent french speakers given a negative test result: 0.05\n",
            "Probability of having fluent french speakers: 0.0686\n"
          ]
        }
      ]
    },
    {
      "cell_type": "markdown",
      "source": [
        "4. A spam filter uses Bayes' Theorem to classify emails. If 80% of incoming emails are spam, and the filter has a 90% success rate in identifying spam and an 85% success rate in identifying non-spam, what is the probability that an email is spam given that it was flagged as spam?\n"
      ],
      "metadata": {
        "id": "k2ASrjw-Y-Tb"
      }
    },
    {
      "cell_type": "code",
      "source": [
        "# prior probability of having success rate in identifying spam\n",
        "p_spam = 0.8\n",
        "\n",
        "# prior probability of not having success rate in identifying spam\n",
        "p_not_spam = 0.2\n",
        "\n",
        "# probability of correctly identifying a spam\n",
        "p_spam_given_test = 0.9\n",
        "\n",
        "# probability of incorrectly identifying a non-spam\n",
        "p_not_spam_given_test = 0.85\n",
        "\n",
        "# probability that an email is spam given that it was flagged as spam\n",
        "p_spam_given_spam = p_spam_given_test * p_spam / p_spam_given_test\n",
        "\n",
        "print(\"Probability of an email being spam given that it was flagged as spam:\", p_spam_given_spam)\n",
        "\n"
      ],
      "metadata": {
        "colab": {
          "base_uri": "https://localhost:8080/"
        },
        "id": "_S0uevd5Y1Sr",
        "outputId": "3eddd233-ac2a-4ece-9e2d-3226d816eb50"
      },
      "execution_count": null,
      "outputs": [
        {
          "output_type": "stream",
          "name": "stdout",
          "text": [
            "Probability of an email being spam given that it was flagged as spam: 0.8\n"
          ]
        }
      ]
    },
    {
      "cell_type": "markdown",
      "source": [
        "5. An oil exploration company believes there is a 20% chance of finding oil in a new field. If a seismic survey is conducted and has an 80% chance of indicating oil if it is present and a 10% chance of indicating oil if it is not present, what is the updated probability of finding oil if the survey indicates oil?\n",
        "\n"
      ],
      "metadata": {
        "id": "WOM7_c_ra1KR"
      }
    },
    {
      "cell_type": "code",
      "source": [
        "# prior probability of having oil present\n",
        "p_oil_present = 0.2\n",
        "\n",
        "# prior probability of not having oil present\n",
        "p_not_oil_present = 0.8\n",
        "\n",
        "# probability of seismic survey indicating oil\n",
        "p_oil_given_survey = 0.8\n",
        "\n",
        "# probability of seismic survey not indicating oil\n",
        "p_not_oil_given_survey = 0.1\n",
        "\n",
        "# probability of finding oil given that a seismic survey indicates oil\n",
        "p_oil_given_test = p_oil_given_survey * p_oil_present / p_oil_given_survey\n",
        "\n",
        "print(\"Probability of finding oil given that a seismic survey indicates oil:\", p_oil_given_test)\n"
      ],
      "metadata": {
        "colab": {
          "base_uri": "https://localhost:8080/"
        },
        "id": "72KJV6MHaGv6",
        "outputId": "32840374-b214-476e-e7df-71e1ba091c36"
      },
      "execution_count": null,
      "outputs": [
        {
          "output_type": "stream",
          "name": "stdout",
          "text": [
            "Probability of finding oil given that a seismic survey indicates oil: 0.20000000000000004\n"
          ]
        }
      ]
    },
    {
      "cell_type": "markdown",
      "source": [
        "6. A student is studying for a test and has a 70% chance of passing without additional tutoring. If tutoring increases the chance of passing to 90%, and 30% of students seek tutoring, what is the probability that a student who passes received tutoring?\n"
      ],
      "metadata": {
        "id": "w7MWTKVVbVKS"
      }
    },
    {
      "cell_type": "code",
      "source": [
        "# prior probability of having tutoring\n",
        "p_tutoring = 0.7\n",
        "\n",
        "# prior probability of not having tutoring\n",
        "p_not_tutoring = 0.3\n",
        "\n",
        "# probability of passing without additional tutoring\n",
        "p_pass_without_tutoring = 0.7\n",
        "\n",
        "# probability of passing with additional tutoring\n",
        "p_pass_with_tutoring = 0.9\n",
        "\n",
        "# probability of passes recieved tutoring\n",
        "p_pass_recieved_tutoring = p_pass_with_tutoring * p_tutoring / p_pass_with_tutoring\n",
        "\n",
        "print(\"Probability of passing recieved tutoring:\", p_pass_recieved_tutoring)\n",
        "\n",
        "#"
      ],
      "metadata": {
        "colab": {
          "base_uri": "https://localhost:8080/"
        },
        "id": "VSsCfOt-bJlr",
        "outputId": "79469fa0-36ab-4b9d-9760-31583e873ccf"
      },
      "execution_count": null,
      "outputs": [
        {
          "output_type": "stream",
          "name": "stdout",
          "text": [
            "Probability of passing recieved tutoring: 0.7\n"
          ]
        }
      ]
    },
    {
      "cell_type": "markdown",
      "source": [
        "7. In a drug trial, 5% of participants have a side effect from a placebo. The drug shows a 75% chance of the side effect if the drug is effective and 10% if it is not. If a participant has the side effect, what is the probability that the drug is effective?\n"
      ],
      "metadata": {
        "id": "LoF2juGbct-o"
      }
    },
    {
      "cell_type": "code",
      "source": [
        "# prior probabilty of having side effects from drugs\n",
        "p_side_effects = 0.05\n",
        "\n",
        "# prior probability of not having side effects from drugs\n",
        "p_not_side_effects = 0.95\n",
        "\n",
        "# probability of effective drug given that a participant has side effects\n",
        "p_effective_given_side_effects = 0.75\n",
        "\n",
        "# probability of not effective drug given that a participant has side effects\n",
        "p_not_effective_given_side_effects = 0.1\n",
        "\n",
        "# probability of effective drug\n",
        "p_effective = p_effective_given_side_effects * p_side_effects / p_effective_given_side_effects\n",
        "\n",
        "print(\"Probability of effective drug given that a participant has side effects:\", p_effective)\n"
      ],
      "metadata": {
        "colab": {
          "base_uri": "https://localhost:8080/"
        },
        "id": "k_aN6sKScbzY",
        "outputId": "0af0933c-a787-4aef-86e9-d37d4a286d28"
      },
      "execution_count": null,
      "outputs": [
        {
          "output_type": "stream",
          "name": "stdout",
          "text": [
            "Probability of effective drug given that a participant has side effects: 0.05000000000000001\n"
          ]
        }
      ]
    },
    {
      "cell_type": "markdown",
      "source": [
        "8. A bag contains 3 red and 7 blue balls. A ball is drawn and then replaced, and this process is repeated twice. If the outcome is one red and one blue, what is the probability that the first ball drawn was red?\n",
        "\n"
      ],
      "metadata": {
        "id": "zFQtU0xkeJf3"
      }
    },
    {
      "cell_type": "code",
      "source": [
        "# prior probability of outcome red balls\n",
        "p_red = 0.3\n",
        "\n",
        "# prior probability of outcome blue balls\n",
        "p_blue = 0.7\n",
        "\n",
        "# probability of outcome of red or blue balls\n",
        "p_red_or_blue = p_red + p_blue\n",
        "\n",
        "# probability of outcome of red and blue balls\n",
        "p_red_and_blue = p_red * p_blue / p_red_or_blue\n",
        "\n",
        "# probability of outcome of red ball\n",
        "p_red_ball = p_red / p_red_or_blue\n",
        "\n",
        "print(\"Probability of outcome of red ball:\", p_red_ball)\n",
        "\n",
        "#"
      ],
      "metadata": {
        "colab": {
          "base_uri": "https://localhost:8080/"
        },
        "id": "dXESPNV0eBsq",
        "outputId": "69b10b78-3a52-4d81-8957-203db02ef54b"
      },
      "execution_count": null,
      "outputs": [
        {
          "output_type": "stream",
          "name": "stdout",
          "text": [
            "Probability of outcome of red ball: 0.3\n"
          ]
        }
      ]
    },
    {
      "cell_type": "markdown",
      "source": [
        "9. A doctor knows that 1 in 1,000 patients have a particular disease. If a test for the disease is 99% sensitive (true positive rate) and 99% specific (true negative rate), what is the probability that a patient who tests positive actually has the disease?\n"
      ],
      "metadata": {
        "id": "i_l9z4OCev5s"
      }
    },
    {
      "cell_type": "code",
      "source": [
        "# prior probability of having disease\n",
        "p_disease = 0.001\n",
        "\n",
        "# prior probability of not having disease\n",
        "p_not_disease = 0.999\n",
        "\n",
        "# probability of correctly identifying a positive test result\n",
        "p_positive = 0.99\n",
        "\n",
        "# probability of correctly identifying a negative test result\n",
        "p_negative = 0.99\n",
        "\n",
        "# probability of a patient having the disease\n",
        "p_disease = p_positive * p_disease / p_positive\n",
        "\n",
        "print(\"Probability of having disease given a positive test result:\", p_disease)\n"
      ],
      "metadata": {
        "colab": {
          "base_uri": "https://localhost:8080/"
        },
        "id": "DTe7mLReesq9",
        "outputId": "c2647465-929d-4e67-dd32-814da3027757"
      },
      "execution_count": null,
      "outputs": [
        {
          "output_type": "stream",
          "name": "stdout",
          "text": [
            "Probability of having disease given a positive test result: 0.001\n"
          ]
        }
      ]
    },
    {
      "cell_type": "markdown",
      "source": [
        "10. A company has two suppliers for a product. Supplier A provides 70% of the product, and Supplier B provides 30%. If 5% of Supplier A's products are defective and 2% of Supplier B's products are defective, what is the probability that a randomly chosen defective product came from Supplier A?\n",
        "\n"
      ],
      "metadata": {
        "id": "9ACCCffdfHAM"
      }
    },
    {
      "cell_type": "code",
      "source": [
        "# prior probability of having defected item from A provides\n",
        "p_A = 0.7\n",
        "\n",
        "# prior probability of having defected item from B provides\n",
        "p_B = 0.3\n",
        "\n",
        "# probability of randomly chosen defective item from A\n",
        "p_defective_A = 0.05\n",
        "\n",
        "# probability of randomly chosen defective item from B\n",
        "p_defective_B = 0.02\n",
        "\n",
        "# probability of randomly chosen defective item\n",
        "p_defective = p_defective_A * p_A + p_defective_B * p_B\n",
        "\n",
        "# probability of randomly chosen defective item from A\n",
        "p_defective_A = p_defective_A * p_A / p_defective\n",
        "\n",
        "print(\"Probability of randomly chosen defective item from A:\", p_defective_A)\n",
        "\n",
        "#"
      ],
      "metadata": {
        "colab": {
          "base_uri": "https://localhost:8080/"
        },
        "id": "9h1KpHZUfCOs",
        "outputId": "b3650006-5100-4962-faf3-b6f132f8856c"
      },
      "execution_count": null,
      "outputs": [
        {
          "output_type": "stream",
          "name": "stdout",
          "text": [
            "Probability of randomly chosen defective item from A: 0.8536585365853658\n"
          ]
        }
      ]
    },
    {
      "cell_type": "markdown",
      "source": [
        "11. A crime scene DNA test matches a suspect's DNA. The test is 99.9% accurate, meaning it correctly identifies matches 99.9% of the time and correctly identifies non-matches 99.9% of the time. If the suspect pool is 1,000 people, what is the probability that the suspect is the criminal?\n",
        "\n"
      ],
      "metadata": {
        "id": "d5CmBARRfroO"
      }
    },
    {
      "cell_type": "code",
      "source": [
        "# prior probability of having accurate identify\n",
        "p_accurate = 0.999\n",
        "\n",
        "# prior probability of not having accurate identify\n",
        "p_not_accurate = 0.001\n",
        "\n",
        "# probability of correctly identifying a match\n",
        "p_match = 0.999\n",
        "\n",
        "# probability of correctly identifying a non-match\n",
        "p_not_match = 0.999\n",
        "\n",
        "# probability of a suspect being the criminal\n",
        "p_criminal = p_match * p_accurate / p_match\n",
        "\n",
        "print(\"Probability of a suspect being the criminal:\", p_criminal)\n",
        "\n",
        "#"
      ],
      "metadata": {
        "colab": {
          "base_uri": "https://localhost:8080/"
        },
        "id": "NAmQi0O0fnm6",
        "outputId": "19064824-a766-46e3-be07-d42d13da6e99"
      },
      "execution_count": null,
      "outputs": [
        {
          "output_type": "stream",
          "name": "stdout",
          "text": [
            "Probability of a suspect being the criminal: 0.999\n"
          ]
        }
      ]
    },
    {
      "cell_type": "markdown",
      "source": [
        "12. A person is known to be in one of three rooms: A, B, or C. The prior probabilities are 20%, 30%, and 50% respectively. A sensor detects movement in room A with 80% accuracy, in room B with 70% accuracy, and in room C with 90% accuracy. If the sensor detects movement, what is the probability that the person is in room A?\n",
        "\n"
      ],
      "metadata": {
        "id": "JPSbCClygGSQ"
      }
    },
    {
      "cell_type": "code",
      "source": [
        "# prior probability of having in room A\n",
        "p_A = 0.2\n",
        "\n",
        "# prior probability of having in room B\n",
        "p_B = 0.3\n",
        "\n",
        "# prior probability of having in room C\n",
        "p_C = 0.5\n",
        "\n",
        "# probability of detecting movement in room A\n",
        "p_detect_A = 0.8\n",
        "\n",
        "# probability of detecting movement in room B\n",
        "p_detect_B = 0.7\n",
        "\n",
        "# probability of detecting movement in room C\n",
        "p_detect_C = 0.9\n",
        "\n",
        "# probability of a person in room A\n",
        "p_A = p_detect_A * p_A / p_detect_A\n",
        "\n",
        "print(\"Probability of a person in room A:\", p_A)\n",
        "\n",
        "#\n"
      ],
      "metadata": {
        "colab": {
          "base_uri": "https://localhost:8080/"
        },
        "id": "FlOrdOt_gCO9",
        "outputId": "67b5d97e-f4de-4c0d-e822-47be31b63240"
      },
      "execution_count": null,
      "outputs": [
        {
          "output_type": "stream",
          "name": "stdout",
          "text": [
            "Probability of a person in room A: 0.20000000000000004\n"
          ]
        }
      ]
    },
    {
      "cell_type": "markdown",
      "source": [
        "13. A medical test for a certain disease has a 5% false positive rate and a 1% false negative rate. If 0.1% of the population has the disease, what is the probability that a person who tests positive actually has the disease?\n",
        "\n"
      ],
      "metadata": {
        "id": "qWCWB-75gxnZ"
      }
    },
    {
      "cell_type": "code",
      "source": [
        "# prior probability of having disease\n",
        "p_disease = 0.001\n",
        "\n",
        "# prior probability of not having disease\n",
        "p_not_disease = 0.999\n",
        "\n",
        "# probability of correctly identifying a positive test result\n",
        "p_positive = 0.99\n",
        "\n",
        "# probability of correctly identifying a negative test result\n",
        "p_negative = 0.99\n",
        "\n",
        "# probability of a person having the disease\n",
        "p_disease = p_positive * p_disease / p_positive\n",
        "\n",
        "print(\"Probability of having disease given a positive test result:\", p_disease)\n",
        "\n",
        "#"
      ],
      "metadata": {
        "colab": {
          "base_uri": "https://localhost:8080/"
        },
        "id": "TuWG3ofOgse9",
        "outputId": "f04b26f9-d2e1-4da8-ff7b-f13b166876bc"
      },
      "execution_count": null,
      "outputs": [
        {
          "output_type": "stream",
          "name": "stdout",
          "text": [
            "Probability of having disease given a positive test result: 0.001\n"
          ]
        }
      ]
    },
    {
      "cell_type": "markdown",
      "source": [
        "14. In a factory, machines A, B, and C produce 30%, 50%, and 20% of the total output, respectively. The defect rates are 1%, 2%, and 3%. What is the probability that a defective item came from machine B?\n"
      ],
      "metadata": {
        "id": "H3pj0xTVhHl2"
      }
    },
    {
      "cell_type": "code",
      "source": [
        "# prior probability of output defect rate from machine A\n",
        "p_A = 0.3\n",
        "\n",
        "# prior probability of output defect rate from machine B\n",
        "p_B = 0.5\n",
        "\n",
        "# prior probability of output defect rate from machine C\n",
        "p_C = 0.2\n",
        "\n",
        "# probability that defective item came from machine B\n",
        "p_B = 0.1\n",
        "\n",
        "print(\"Probability of defective item came from machine B:\", p_B)\n",
        "\n"
      ],
      "metadata": {
        "colab": {
          "base_uri": "https://localhost:8080/"
        },
        "id": "tLSDtn-ChDEf",
        "outputId": "d2460d44-a962-43f0-ed0f-350505443c9e"
      },
      "execution_count": null,
      "outputs": [
        {
          "output_type": "stream",
          "name": "stdout",
          "text": [
            "Probability of defective item came from machine B: 0.1\n"
          ]
        }
      ]
    },
    {
      "cell_type": "markdown",
      "source": [
        "15. An employee is late to work 10% of the time. On days they are late, the train was delayed 60% of the time. On days they are not late, the train was delayed 5% of the time. What is the probability that the train was delayed given that the employee is late?\n",
        "\n"
      ],
      "metadata": {
        "id": "qwFDVIjzjnY4"
      }
    },
    {
      "cell_type": "code",
      "source": [
        "# prior probability of having train late\n",
        "p_late = 0.1\n",
        "\n",
        "# prior probability of not having train late\n",
        "p_not_late = 0.9\n",
        "\n",
        "# probability of train delayed\n",
        "p_delayed = 0.6\n",
        "\n",
        "# probability of train not delayed\n",
        "p_not_delayed = 0.95\n",
        "\n",
        "# probability of train delayed given that the employee is late\n",
        "p_delayed_given_late = p_delayed * p_late / p_delayed\n",
        "\n",
        "print(\"Probability of train delayed given that the employee is late:\", p_delayed_given_late)\n",
        "\n",
        "#"
      ],
      "metadata": {
        "colab": {
          "base_uri": "https://localhost:8080/"
        },
        "id": "nS40Yc1ojjeo",
        "outputId": "87cbac50-2a4d-4f70-83d8-5736b54a844f"
      },
      "execution_count": null,
      "outputs": [
        {
          "output_type": "stream",
          "name": "stdout",
          "text": [
            "Probability of train delayed given that the employee is late: 0.1\n"
          ]
        }
      ]
    },
    {
      "cell_type": "markdown",
      "source": [
        "16. A genetic test for a rare disorder has a 2% false positive rate and a 1% false negative rate. If the disorder affects 0.5% of the population, what is the probability that a person who tests positive has the disorder?\n",
        "\n"
      ],
      "metadata": {
        "id": "d7vKcYYwqhKl"
      }
    },
    {
      "cell_type": "code",
      "source": [
        "# prior probability of having disorder\n",
        "p_disorder = 0.005\n",
        "\n",
        "# prior probability of not having disorder\n",
        "p_not_disorder = 0.995\n",
        "\n",
        "# probability of correctly identifying a positive test result\n",
        "p_positive = 0.98\n",
        "\n",
        "# probability of correctly identifying a negative test result\n",
        "p_negative = 0.99\n",
        "\n",
        "# probability of a person having the disorder\n",
        "p_disorder = p_positive * p_disorder / p_positive\n",
        "\n",
        "print(\"Probability of having disorder given a positive test result:\", p_disorder)\n",
        "\n",
        "#"
      ],
      "metadata": {
        "colab": {
          "base_uri": "https://localhost:8080/"
        },
        "id": "C4yIjyYbqanH",
        "outputId": "c1805be9-e8ca-48d1-e771-fb673eccef76"
      },
      "execution_count": null,
      "outputs": [
        {
          "output_type": "stream",
          "name": "stdout",
          "text": [
            "Probability of having disorder given a positive test result: 0.005\n"
          ]
        }
      ]
    },
    {
      "cell_type": "markdown",
      "source": [
        "17. A company markets two products, X and Y. 40% of customers buy X, 30% buy Y, and 30% buy both. If a customer is known to have bought Y, what is the probability they also bought X?\n",
        "\n"
      ],
      "metadata": {
        "id": "WAFgKvtdqyag"
      }
    },
    {
      "cell_type": "code",
      "source": [
        "# prior probability of buying product X\n",
        "p_X = 0.4\n",
        "\n",
        "# prior probability of buying product Y\n",
        "p_Y = 0.3\n",
        "\n",
        "# prior probability of buying both products\n",
        "p_XY = 0.3\n",
        "\n",
        "# probability when customer is known to have bought Y,they also bought X\n",
        "p_X_given_Y = p_XY * p_Y / p_XY\n",
        "\n",
        "print(\"Probability of buying product X given that customer is known to have bought Y:\", p_X_given_Y)\n",
        "\n",
        "#\n"
      ],
      "metadata": {
        "colab": {
          "base_uri": "https://localhost:8080/"
        },
        "id": "nu4eaogzqub9",
        "outputId": "49fbdabf-c060-42c4-9c65-5f29522434e8"
      },
      "execution_count": null,
      "outputs": [
        {
          "output_type": "stream",
          "name": "stdout",
          "text": [
            "Probability of buying product X given that customer is known to have bought Y: 0.3\n"
          ]
        }
      ]
    },
    {
      "cell_type": "markdown",
      "source": [
        "18. A diagnostic test for a disease has 95% sensitivity and 90% specificity. If 2% of the population has the disease, what is the probability that a person who tests positive actually has the disease?\n"
      ],
      "metadata": {
        "id": "aIviE3GdsXoY"
      }
    },
    {
      "cell_type": "code",
      "source": [
        "# prior probability of having disease\n",
        "p_disease = 0.02\n",
        "\n",
        "# prior probability of not having disease\n",
        "p_not_disease = 0.97\n",
        "\n",
        "# probability of correctly identifying a positive test result\n",
        "p_positive = 0.95\n",
        "\n",
        "# probability of correctly identifying a negative test result\n",
        "p_negative = 0.9\n",
        "\n",
        "# probability of a person having the disease\n",
        "p_disease = p_positive * p_disease / p_positive\n",
        "\n",
        "print(\"Probability of having disease given a positive test result:\", p_disease)"
      ],
      "metadata": {
        "colab": {
          "base_uri": "https://localhost:8080/"
        },
        "id": "E-IFAwc-sQd5",
        "outputId": "5e333f36-7656-4db8-8a89-0c6824679163"
      },
      "execution_count": null,
      "outputs": [
        {
          "output_type": "stream",
          "name": "stdout",
          "text": [
            "Probability of having disease given a positive test result: 0.02\n"
          ]
        }
      ]
    },
    {
      "cell_type": "markdown",
      "source": [
        "19. A quality control system uses sensors that have a 98% success rate in detecting defective items and a 95% success rate in confirming non-defective items. If the defect rate is 4%, what is the probability that an item flagged as defective is indeed defective?\n",
        "\n"
      ],
      "metadata": {
        "id": "f1Yd6OtXuDdy"
      }
    },
    {
      "cell_type": "code",
      "source": [
        "# prior probability of detecting defective items\n",
        "p_defective = 0.98\n",
        "\n",
        "# prior probability of confirming non-defective items\n",
        "p_not_defective = 0.95\n",
        "\n",
        "# probability of flagged defective items\n",
        "p_defective_given_flag = 0.04\n",
        "\n",
        "# probability of not flagged defective items\n",
        "p_not_defective_given_flag = 0.9\n",
        "\n",
        "# probability of an item flagged as defective\n",
        "p_defective = p_defective_given_flag * p_defective / p_defective_given_flag\n",
        "\n",
        "# probability of an item flagged as defective is indeed defective\n",
        "p_defective_given_defective = p_defective * p_defective_given_flag / p_defective\n",
        "\n",
        "print(\"Probability of an item flagged as defective is indeed defective:\", p_defective_given_defective)"
      ],
      "metadata": {
        "colab": {
          "base_uri": "https://localhost:8080/"
        },
        "id": "zopP83brt-G8",
        "outputId": "04db012b-d78a-471a-d323-4603e29f3343"
      },
      "execution_count": null,
      "outputs": [
        {
          "output_type": "stream",
          "name": "stdout",
          "text": [
            "Probability of an item flagged as defective is indeed defective: 0.04\n"
          ]
        }
      ]
    },
    {
      "cell_type": "markdown",
      "source": [
        "20. In a university, 70% of students are undergraduates and 30% are graduates. The probability of an undergraduate using the library is 50%, while the probability for a graduate is 80%. If a student is observed using the library, what is the probability that they are a graduate student?\n"
      ],
      "metadata": {
        "id": "L3--9YSouvwN"
      }
    },
    {
      "cell_type": "code",
      "source": [
        "# prior probability of an undergraduate using library\n",
        "p_undergraduate = 0.7\n",
        "\n",
        "# prior probability of a graduate using library\n",
        "p_graduate = 0.8\n",
        "\n",
        "# probability of an undergraduate using library\n",
        "p_library_given_undergraduate = 0.5\n",
        "\n",
        "# probability of a graduate using library\n",
        "p_library_given_graduate = 0.2\n",
        "\n",
        "# probability of a graduate student\n",
        "p_graduate = p_library_given_graduate * p_graduate / p_library_given_graduate\n",
        "\n",
        "print(\"Probability of a graduate student given that a student is observed using the library:\", p_graduate)"
      ],
      "metadata": {
        "colab": {
          "base_uri": "https://localhost:8080/"
        },
        "id": "bKjO3dr0uqN4",
        "outputId": "5e5e4fc8-594a-4158-a196-a97d3d557fda"
      },
      "execution_count": null,
      "outputs": [
        {
          "output_type": "stream",
          "name": "stdout",
          "text": [
            "Probability of a graduate student given that a student is observed using the library: 0.8000000000000002\n"
          ]
        }
      ]
    },
    {
      "cell_type": "code",
      "source": [],
      "metadata": {
        "id": "M7Bf27SBvdEg"
      },
      "execution_count": null,
      "outputs": []
    }
  ]
}