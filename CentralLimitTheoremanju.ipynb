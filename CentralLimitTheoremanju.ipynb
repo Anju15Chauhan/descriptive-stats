{
  "nbformat": 4,
  "nbformat_minor": 0,
  "metadata": {
    "colab": {
      "provenance": []
    },
    "kernelspec": {
      "name": "python3",
      "display_name": "Python 3"
    },
    "language_info": {
      "name": "python"
    }
  },
  "cells": [
    {
      "cell_type": "markdown",
      "source": [],
      "metadata": {
        "id": "rYpESz_GxFdk"
      }
    },
    {
      "cell_type": "markdown",
      "source": [
        "\n",
        "#Central Limit Theorem\n",
        " • The Central Limit Theorem (CLT) is a fundamental concept in probability\n",
        " theory and statistics.\n",
        "\n",
        " • It states that as the sample size of a random variable increases, the distribution of the sample mean will approach a normal distribution, regardless of the underlying\n",
        " distribution of the original variable.\n",
        "\n",
        " • It tells us that if we take multiple random samples from a population and calculate the mean of each sample, the distribution of those sample means will be approximately normal, even if the original population is not normally distributed.\n",
        "\n",
        " • This has important implications for statistical inference and hypothesis\n",
        " testing."
      ],
      "metadata": {
        "id": "QCTnqbzkxGaz"
      }
    },
    {
      "cell_type": "markdown",
      "source": [
        "1. A factory produces light bulbs with a mean lifespan of 1,000 hours and a standard deviation of 100 hours. What is the probability that the average lifespan of a random sample of 50 light bulbs is between 980 and 1020 hours?\n"
      ],
      "metadata": {
        "id": "K_r3uoC3z4hL"
      }
    },
    {
      "cell_type": "code",
      "execution_count": 3,
      "metadata": {
        "colab": {
          "base_uri": "https://localhost:8080/"
        },
        "id": "SYGLYlFCxALt",
        "outputId": "6e908133-7c09-4cbd-ed2e-bce95703a151"
      },
      "outputs": [
        {
          "output_type": "stream",
          "name": "stdout",
          "text": [
            "Probability: 0.842700792949715\n"
          ]
        }
      ],
      "source": [
        "import numpy as np\n",
        "from scipy.stats import norm\n",
        "\n",
        "mean = 1000\n",
        "std = 100\n",
        "sample_size = 50\n",
        "sample_mean = 1000\n",
        "\n",
        "# Standard deviation of the sample mean\n",
        "std_sample_mean = std / np.sqrt(sample_size)\n",
        "\n",
        "# Calculate z-scores for the lower and upper bounds\n",
        "z_lower = (980 - mean) / std_sample_mean\n",
        "z_upper = (1020 - mean) / std_sample_mean\n",
        "\n",
        "# Calculate the probability that the average lifespan of random sample\n",
        "# is between 980 and 1020 hours\n",
        "prob = norm.cdf(z_upper) - norm.cdf(z_lower)\n",
        "\n",
        "print(\"Probability:\", prob)"
      ]
    },
    {
      "cell_type": "markdown",
      "source": [
        "2. The average height of adult men in a city is 175 cm with a standard deviation of 10 cm. If a random sample of 30 men is taken, what is the probability that their average height is more than 178 cm?\n"
      ],
      "metadata": {
        "id": "q_VuDhTUOvTQ"
      }
    },
    {
      "cell_type": "code",
      "source": [
        "import numpy as np\n",
        "from scipy.stats import norm\n",
        "\n",
        "# given dataset\n",
        "mean = 175\n",
        "std = 10\n",
        "sample_size = 30\n",
        "\n",
        "# standard deviation of the sample mean\n",
        "std_sample_mean = std / np.sqrt(sample_size)\n",
        "\n",
        "# calculate z-score for the sample mean\n",
        "z_score = (178 - mean) / std_sample_mean\n",
        "\n",
        "# calculate the probability that the sample mean is greater than 178 cm\n",
        "prob = 1 - norm.cdf(z_score)\n",
        "\n",
        "print(\"Probability:\", prob)"
      ],
      "metadata": {
        "colab": {
          "base_uri": "https://localhost:8080/"
        },
        "id": "PVkf6sxO06sM",
        "outputId": "1d32ad75-661a-4899-92bd-88165b9c046d"
      },
      "execution_count": 3,
      "outputs": [
        {
          "output_type": "stream",
          "name": "stdout",
          "text": [
            "Probability: 0.05017412323114534\n"
          ]
        }
      ]
    },
    {
      "cell_type": "markdown",
      "source": [
        "3. A bakery sells cookies with an average weight of 50 grams and a standard deviation of 5 grams. If a random sample of 100 cookies is taken, what is the probability that the sample mean weight is less than 49 grams?\n",
        "\n"
      ],
      "metadata": {
        "id": "Jo6BL2EwQZXG"
      }
    },
    {
      "cell_type": "code",
      "source": [
        "import numpy as np\n",
        "from scipy.stats import norm\n",
        "\n",
        "# given dataset\n",
        "mean = 50\n",
        "std = 5\n",
        "sample_size = 100\n",
        "\n",
        "# standard deviation of the sample mean\n",
        "std_sample_mean = std / np.sqrt(sample_size)\n",
        "\n",
        "# calculate z-score for the sample mean\n",
        "z_score = (49 - mean) / std_sample_mean\n",
        "\n",
        "# calculate the probability that the sample mean is less than 49 grams\n",
        "prob = norm.cdf(z_score)\n",
        "\n",
        "print(\"Probability:\", prob)\n"
      ],
      "metadata": {
        "colab": {
          "base_uri": "https://localhost:8080/"
        },
        "id": "kU9BpWQ9PaU6",
        "outputId": "9ef18b60-a9bd-4e8b-b8b2-e6062f6a0293"
      },
      "execution_count": 4,
      "outputs": [
        {
          "output_type": "stream",
          "name": "stdout",
          "text": [
            "Probability: 0.022750131948179195\n"
          ]
        }
      ]
    },
    {
      "cell_type": "markdown",
      "source": [
        "4. The average score on a standardized test is 75 with a standard deviation of 8. If a random sample of 40 students is selected, what is the probability that their average score is between 73 and 77?\n"
      ],
      "metadata": {
        "id": "xnF4hWRRQpol"
      }
    },
    {
      "cell_type": "code",
      "source": [
        "import numpy as np\n",
        "from scipy.stats import norm\n",
        "\n",
        "# given dataset\n",
        "mean = 75\n",
        "std = 8\n",
        "sample_size = 40\n",
        "\n",
        "# standard deviation of the sample mean\n",
        "std_sample_mean = std / np.sqrt(sample_size)\n",
        "\n",
        "# Calculate z-scores for the lower and upper bounds\n",
        "z_lower = (73 - mean) / std_sample_mean\n",
        "z_upper = (77 - mean) / std_sample_mean\n",
        "\n",
        "# Calculate the probability that the average score is between 73 and 77\n",
        "prob = norm.cdf(z_upper) - norm.cdf(z_lower)\n",
        "\n",
        "print(\"Probability:\", prob)"
      ],
      "metadata": {
        "colab": {
          "base_uri": "https://localhost:8080/"
        },
        "id": "0jRwSsWWQjgd",
        "outputId": "3c5cdfab-514b-4258-8d27-db8e0af85aeb"
      },
      "execution_count": 5,
      "outputs": [
        {
          "output_type": "stream",
          "name": "stdout",
          "text": [
            "Probability: 0.8861537019933419\n"
          ]
        }
      ]
    },
    {
      "cell_type": "markdown",
      "source": [
        "5. A machine fills bottles with an average of 500 ml of liquid and a standard deviation of 15 ml. If a random sample of 60 bottles is taken, what is the probability that the average amount of liquid is between 495 ml and 505 ml?"
      ],
      "metadata": {
        "id": "NPzK4RxiRhL4"
      }
    },
    {
      "cell_type": "code",
      "source": [
        "import numpy as np\n",
        "from scipy.stats import norm\n",
        "\n",
        "# given dataset\n",
        "mean = 500\n",
        "std = 15\n",
        "sample_size = 60\n",
        "\n",
        "# standard deviation of the sample mean\n",
        "std_sample_mean = std / np.sqrt(sample_size)\n",
        "\n",
        "# calculate z-score for the sample mean\n",
        "z_lower = (495 - mean) / std_sample_mean\n",
        "z_upper = (505 - mean) / std_sample_mean\n",
        "\n",
        "# calculate the probability that the average amount of liquid is between 495 and 505\n",
        "prob = norm.cdf(z_upper) - norm.cdf(z_lower)\n",
        "\n",
        "print(\"Probability:\", prob)\n"
      ],
      "metadata": {
        "colab": {
          "base_uri": "https://localhost:8080/"
        },
        "id": "aUE0g6-0RcaJ",
        "outputId": "6f56178f-a4ff-43c2-bc0a-abd9f2c0b8d5"
      },
      "execution_count": 7,
      "outputs": [
        {
          "output_type": "stream",
          "name": "stdout",
          "text": [
            "Probability: 0.9901767254924807\n"
          ]
        }
      ]
    },
    {
      "cell_type": "markdown",
      "source": [
        "6. The mean monthly electricity consumption of households in a town is 350 kWh with a standard deviation of 50 kWh. What is the probability that the average consumption of a random sample of 25 households is more than 360 kWh?\n"
      ],
      "metadata": {
        "id": "iGUn0mbCSSmN"
      }
    },
    {
      "cell_type": "code",
      "source": [
        "import numpy as np\n",
        "from scipy.stats import norm\n",
        "\n",
        "# given dataset\n",
        "mean = 350\n",
        "std = 50\n",
        "sample_size = 25\n",
        "\n",
        "# standard deviation of the sample mean\n",
        "std_sample_mean = std / np.sqrt(sample_size)\n",
        "\n",
        "# calculate z-score for the sample mean\n",
        "z_score = (360 - mean) / std_sample_mean\n",
        "\n",
        "# calculate the probability that the sample mean is greater than 360 kWh\n",
        "prob = 1 - norm.cdf(z_score)\n",
        "\n",
        "print(\"Probability:\", prob)\n"
      ],
      "metadata": {
        "colab": {
          "base_uri": "https://localhost:8080/"
        },
        "id": "y4h8ciBxSEK0",
        "outputId": "f52f6466-ae1b-4981-8ca1-afa8970d0fe6"
      },
      "execution_count": 8,
      "outputs": [
        {
          "output_type": "stream",
          "name": "stdout",
          "text": [
            "Probability: 0.15865525393145707\n"
          ]
        }
      ]
    },
    {
      "cell_type": "markdown",
      "source": [
        "7. A university has an average class size of 30 students with a standard deviation of 5 students. If a random sample of 50 classes is taken, what is the probability that the average class size is less than 29 students?\n",
        "\n"
      ],
      "metadata": {
        "id": "itOup_Q3SlWv"
      }
    },
    {
      "cell_type": "code",
      "source": [
        "import numpy as np\n",
        "from scipy.stats import norm\n",
        "\n",
        "# given dataset\n",
        "mean = 30\n",
        "std = 5\n",
        "sample_size = 50\n",
        "\n",
        "# standard deviation of the sample mean\n",
        "std_sample_mean = std / np.sqrt(sample_size)\n",
        "\n",
        "# calculate z-score for the sample mean\n",
        "z_score = (29 - mean) / std_sample_mean\n",
        "\n",
        "# calculate the probability that the sample mean is less than 29 students\n",
        "prob = norm.cdf(z_score)\n",
        "\n",
        "print(\"Probability:\", prob)"
      ],
      "metadata": {
        "colab": {
          "base_uri": "https://localhost:8080/"
        },
        "id": "uBUmy2dHSiNV",
        "outputId": "b7ad7734-2607-46bb-daa5-407e306b6103"
      },
      "execution_count": 9,
      "outputs": [
        {
          "output_type": "stream",
          "name": "stdout",
          "text": [
            "Probability: 0.07864960352514251\n"
          ]
        }
      ]
    },
    {
      "cell_type": "markdown",
      "source": [
        "8. The average number of defective items in a batch of 200 is 10 with a standard deviation of 3. If a random sample of 40 batches is taken, what is the probability that the average number of defective items is between 9 and 11?\n",
        "\n"
      ],
      "metadata": {
        "id": "jAaHK1PcS8HW"
      }
    },
    {
      "cell_type": "code",
      "source": [
        "import numpy as np\n",
        "from scipy.stats import norm\n",
        "\n",
        "# given dataset\n",
        "mean = 10\n",
        "std = 3\n",
        "sample_size = 40\n",
        "\n",
        "# standard deviation of the sample mean\n",
        "std_sample_mean = std / np.sqrt(sample_size)\n",
        "\n",
        "# calculate the probability that the average number of defective items is between 9 and 11\n",
        "prob = norm.cdf(11) - norm.cdf(9)\n",
        "\n",
        "print(\"Probability:\", prob)"
      ],
      "metadata": {
        "colab": {
          "base_uri": "https://localhost:8080/"
        },
        "id": "aHfMoFg2S4wX",
        "outputId": "cfd412f4-8dde-47c6-b912-3eeea8dff8ca"
      },
      "execution_count": 10,
      "outputs": [
        {
          "output_type": "stream",
          "name": "stdout",
          "text": [
            "Probability: 0.0\n"
          ]
        }
      ]
    },
    {
      "cell_type": "markdown",
      "source": [
        "9. The average time taken to complete a task is 45 minutes with a standard deviation of 10 minutes. If a random sample of 100 tasks is taken, what is the probability that the average completion time is more than 46 minutes?\n"
      ],
      "metadata": {
        "id": "QrsOmr4xU4gJ"
      }
    },
    {
      "cell_type": "code",
      "source": [],
      "metadata": {
        "id": "R_4SsLXOUYle"
      },
      "execution_count": null,
      "outputs": []
    }
  ]
}