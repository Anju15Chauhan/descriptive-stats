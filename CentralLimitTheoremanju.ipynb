{
  "nbformat": 4,
  "nbformat_minor": 0,
  "metadata": {
    "colab": {
      "provenance": [],
      "authorship_tag": "ABX9TyPgIWYdV+qK68kJRXyY4LIt",
      "include_colab_link": true
    },
    "kernelspec": {
      "name": "python3",
      "display_name": "Python 3"
    },
    "language_info": {
      "name": "python"
    }
  },
  "cells": [
    {
      "cell_type": "markdown",
      "metadata": {
        "id": "view-in-github",
        "colab_type": "text"
      },
      "source": [
        "<a href=\"https://colab.research.google.com/github/Anju15Chauhan/descriptive-stats/blob/main/CentralLimitTheoremanju.ipynb\" target=\"_parent\"><img src=\"https://colab.research.google.com/assets/colab-badge.svg\" alt=\"Open In Colab\"/></a>"
      ]
    },
    {
      "cell_type": "markdown",
      "source": [],
      "metadata": {
        "id": "rYpESz_GxFdk"
      }
    },
    {
      "cell_type": "markdown",
      "source": [
        "\n",
        "#Central Limit Theorem\n",
        " • The Central Limit Theorem (CLT) is a fundamental concept in probability\n",
        " theory and statistics.\n",
        "\n",
        " • It states that as the sample size of a random variable increases, the distribution of the sample mean will approach a normal distribution, regardless of the underlying\n",
        " distribution of the original variable.\n",
        "\n",
        " • It tells us that if we take multiple random samples from a population and calculate the mean of each sample, the distribution of those sample means will be approximately normal, even if the original population is not normally distributed.\n",
        "\n",
        " • This has important implications for statistical inference and hypothesis\n",
        " testing."
      ],
      "metadata": {
        "id": "QCTnqbzkxGaz"
      }
    },
    {
      "cell_type": "markdown",
      "source": [
        "1. A factory produces light bulbs with a mean lifespan of 1,000 hours and a standard deviation of 100 hours. What is the probability that the average lifespan of a random sample of 50 light bulbs is between 980 and 1020 hours?\n"
      ],
      "metadata": {
        "id": "K_r3uoC3z4hL"
      }
    },
    {
      "cell_type": "code",
      "execution_count": null,
      "metadata": {
        "colab": {
          "base_uri": "https://localhost:8080/"
        },
        "id": "SYGLYlFCxALt",
        "outputId": "6e908133-7c09-4cbd-ed2e-bce95703a151"
      },
      "outputs": [
        {
          "output_type": "stream",
          "name": "stdout",
          "text": [
            "Probability: 0.842700792949715\n"
          ]
        }
      ],
      "source": [
        "import numpy as np\n",
        "from scipy.stats import norm\n",
        "\n",
        "mean = 1000\n",
        "std = 100\n",
        "sample_size = 50\n",
        "sample_mean = 1000\n",
        "\n",
        "# Standard deviation of the sample mean\n",
        "std_sample_mean = std / np.sqrt(sample_size)\n",
        "\n",
        "# Calculate z-scores for the lower and upper bounds\n",
        "z_lower = (980 - mean) / std_sample_mean\n",
        "z_upper = (1020 - mean) / std_sample_mean\n",
        "\n",
        "# Calculate the probability that the average lifespan of random sample\n",
        "# is between 980 and 1020 hours\n",
        "prob = norm.cdf(z_upper) - norm.cdf(z_lower)\n",
        "\n",
        "print(\"Probability:\", prob)"
      ]
    },
    {
      "cell_type": "markdown",
      "source": [
        "2. The average height of adult men in a city is 175 cm with a standard deviation of 10 cm. If a random sample of 30 men is taken, what is the probability that their average height is more than 178 cm?\n"
      ],
      "metadata": {
        "id": "q_VuDhTUOvTQ"
      }
    },
    {
      "cell_type": "code",
      "source": [
        "import numpy as np\n",
        "from scipy.stats import norm\n",
        "\n",
        "# given dataset\n",
        "mean = 175\n",
        "std = 10\n",
        "sample_size = 30\n",
        "\n",
        "# standard deviation of the sample mean\n",
        "std_sample_mean = std / np.sqrt(sample_size)\n",
        "\n",
        "# calculate z-score for the sample mean\n",
        "z_score = (178 - mean) / std_sample_mean\n",
        "\n",
        "# calculate the probability that the sample mean is greater than 178 cm\n",
        "prob = 1 - norm.cdf(z_score)\n",
        "\n",
        "print(\"Probability:\", prob)"
      ],
      "metadata": {
        "colab": {
          "base_uri": "https://localhost:8080/"
        },
        "id": "PVkf6sxO06sM",
        "outputId": "1d32ad75-661a-4899-92bd-88165b9c046d"
      },
      "execution_count": null,
      "outputs": [
        {
          "output_type": "stream",
          "name": "stdout",
          "text": [
            "Probability: 0.05017412323114534\n"
          ]
        }
      ]
    },
    {
      "cell_type": "markdown",
      "source": [
        "3. A bakery sells cookies with an average weight of 50 grams and a standard deviation of 5 grams. If a random sample of 100 cookies is taken, what is the probability that the sample mean weight is less than 49 grams?\n",
        "\n"
      ],
      "metadata": {
        "id": "Jo6BL2EwQZXG"
      }
    },
    {
      "cell_type": "code",
      "source": [
        "import numpy as np\n",
        "from scipy.stats import norm\n",
        "\n",
        "# given dataset\n",
        "mean = 50\n",
        "std = 5\n",
        "sample_size = 100\n",
        "\n",
        "# standard deviation of the sample mean\n",
        "std_sample_mean = std / np.sqrt(sample_size)\n",
        "\n",
        "# calculate z-score for the sample mean\n",
        "z_score = (49 - mean) / std_sample_mean\n",
        "\n",
        "# calculate the probability that the sample mean is less than 49 grams\n",
        "prob = norm.cdf(z_score)\n",
        "\n",
        "print(\"Probability:\", prob)\n"
      ],
      "metadata": {
        "colab": {
          "base_uri": "https://localhost:8080/"
        },
        "id": "kU9BpWQ9PaU6",
        "outputId": "9ef18b60-a9bd-4e8b-b8b2-e6062f6a0293"
      },
      "execution_count": null,
      "outputs": [
        {
          "output_type": "stream",
          "name": "stdout",
          "text": [
            "Probability: 0.022750131948179195\n"
          ]
        }
      ]
    },
    {
      "cell_type": "markdown",
      "source": [
        "4. The average score on a standardized test is 75 with a standard deviation of 8. If a random sample of 40 students is selected, what is the probability that their average score is between 73 and 77?\n"
      ],
      "metadata": {
        "id": "xnF4hWRRQpol"
      }
    },
    {
      "cell_type": "code",
      "source": [
        "import numpy as np\n",
        "from scipy.stats import norm\n",
        "\n",
        "# given dataset\n",
        "mean = 75\n",
        "std = 8\n",
        "sample_size = 40\n",
        "\n",
        "# standard deviation of the sample mean\n",
        "std_sample_mean = std / np.sqrt(sample_size)\n",
        "\n",
        "# Calculate z-scores for the lower and upper bounds\n",
        "z_lower = (73 - mean) / std_sample_mean\n",
        "z_upper = (77 - mean) / std_sample_mean\n",
        "\n",
        "# Calculate the probability that the average score is between 73 and 77\n",
        "prob = norm.cdf(z_upper) - norm.cdf(z_lower)\n",
        "\n",
        "print(\"Probability:\", prob)"
      ],
      "metadata": {
        "colab": {
          "base_uri": "https://localhost:8080/"
        },
        "id": "0jRwSsWWQjgd",
        "outputId": "3c5cdfab-514b-4258-8d27-db8e0af85aeb"
      },
      "execution_count": null,
      "outputs": [
        {
          "output_type": "stream",
          "name": "stdout",
          "text": [
            "Probability: 0.8861537019933419\n"
          ]
        }
      ]
    },
    {
      "cell_type": "markdown",
      "source": [
        "5. A machine fills bottles with an average of 500 ml of liquid and a standard deviation of 15 ml. If a random sample of 60 bottles is taken, what is the probability that the average amount of liquid is between 495 ml and 505 ml?"
      ],
      "metadata": {
        "id": "NPzK4RxiRhL4"
      }
    },
    {
      "cell_type": "code",
      "source": [
        "import numpy as np\n",
        "from scipy.stats import norm\n",
        "\n",
        "# given dataset\n",
        "mean = 500\n",
        "std = 15\n",
        "sample_size = 60\n",
        "\n",
        "# standard deviation of the sample mean\n",
        "std_sample_mean = std / np.sqrt(sample_size)\n",
        "\n",
        "# calculate z-score for the sample mean\n",
        "z_lower = (495 - mean) / std_sample_mean\n",
        "z_upper = (505 - mean) / std_sample_mean\n",
        "\n",
        "# calculate the probability that the average amount of liquid is between 495 and 505\n",
        "prob = norm.cdf(z_upper) - norm.cdf(z_lower)\n",
        "\n",
        "print(\"Probability:\", prob)\n"
      ],
      "metadata": {
        "colab": {
          "base_uri": "https://localhost:8080/"
        },
        "id": "aUE0g6-0RcaJ",
        "outputId": "6f56178f-a4ff-43c2-bc0a-abd9f2c0b8d5"
      },
      "execution_count": null,
      "outputs": [
        {
          "output_type": "stream",
          "name": "stdout",
          "text": [
            "Probability: 0.9901767254924807\n"
          ]
        }
      ]
    },
    {
      "cell_type": "markdown",
      "source": [
        "6. The mean monthly electricity consumption of households in a town is 350 kWh with a standard deviation of 50 kWh. What is the probability that the average consumption of a random sample of 25 households is more than 360 kWh?\n"
      ],
      "metadata": {
        "id": "iGUn0mbCSSmN"
      }
    },
    {
      "cell_type": "code",
      "source": [
        "import numpy as np\n",
        "from scipy.stats import norm\n",
        "\n",
        "# given dataset\n",
        "mean = 350\n",
        "std = 50\n",
        "sample_size = 25\n",
        "\n",
        "# standard deviation of the sample mean\n",
        "std_sample_mean = std / np.sqrt(sample_size)\n",
        "\n",
        "# calculate z-score for the sample mean\n",
        "z_score = (360 - mean) / std_sample_mean\n",
        "\n",
        "# calculate the probability that the sample mean is greater than 360 kWh\n",
        "prob = 1 - norm.cdf(z_score)\n",
        "\n",
        "print(\"Probability:\", prob)\n"
      ],
      "metadata": {
        "colab": {
          "base_uri": "https://localhost:8080/"
        },
        "id": "y4h8ciBxSEK0",
        "outputId": "f52f6466-ae1b-4981-8ca1-afa8970d0fe6"
      },
      "execution_count": null,
      "outputs": [
        {
          "output_type": "stream",
          "name": "stdout",
          "text": [
            "Probability: 0.15865525393145707\n"
          ]
        }
      ]
    },
    {
      "cell_type": "markdown",
      "source": [
        "7. A university has an average class size of 30 students with a standard deviation of 5 students. If a random sample of 50 classes is taken, what is the probability that the average class size is less than 29 students?\n",
        "\n"
      ],
      "metadata": {
        "id": "itOup_Q3SlWv"
      }
    },
    {
      "cell_type": "code",
      "source": [
        "import numpy as np\n",
        "from scipy.stats import norm\n",
        "\n",
        "# given dataset\n",
        "mean = 30\n",
        "std = 5\n",
        "sample_size = 50\n",
        "\n",
        "# standard deviation of the sample mean\n",
        "std_sample_mean = std / np.sqrt(sample_size)\n",
        "\n",
        "# calculate z-score for the sample mean\n",
        "z_score = (29 - mean) / std_sample_mean\n",
        "\n",
        "# calculate the probability that the sample mean is less than 29 students\n",
        "prob = norm.cdf(z_score)\n",
        "\n",
        "print(\"Probability:\", prob)"
      ],
      "metadata": {
        "colab": {
          "base_uri": "https://localhost:8080/"
        },
        "id": "uBUmy2dHSiNV",
        "outputId": "b7ad7734-2607-46bb-daa5-407e306b6103"
      },
      "execution_count": null,
      "outputs": [
        {
          "output_type": "stream",
          "name": "stdout",
          "text": [
            "Probability: 0.07864960352514251\n"
          ]
        }
      ]
    },
    {
      "cell_type": "markdown",
      "source": [
        "8. The average number of defective items in a batch of 200 is 10 with a standard deviation of 3. If a random sample of 40 batches is taken, what is the probability that the average number of defective items is between 9 and 11?\n",
        "\n"
      ],
      "metadata": {
        "id": "jAaHK1PcS8HW"
      }
    },
    {
      "cell_type": "code",
      "source": [
        "import numpy as np\n",
        "from scipy.stats import norm\n",
        "\n",
        "# given dataset\n",
        "mean = 10\n",
        "std = 3\n",
        "sample_size = 40\n",
        "\n",
        "# standard deviation of the sample mean\n",
        "std_sample_mean = std / np.sqrt(sample_size)\n",
        "\n",
        "# calculate the probability that the average number of defective items is between 9 and 11\n",
        "prob = norm.cdf(11) - norm.cdf(9)\n",
        "\n",
        "print(\"Probability:\", prob)"
      ],
      "metadata": {
        "colab": {
          "base_uri": "https://localhost:8080/"
        },
        "id": "aHfMoFg2S4wX",
        "outputId": "cfd412f4-8dde-47c6-b912-3eeea8dff8ca"
      },
      "execution_count": null,
      "outputs": [
        {
          "output_type": "stream",
          "name": "stdout",
          "text": [
            "Probability: 0.0\n"
          ]
        }
      ]
    },
    {
      "cell_type": "markdown",
      "source": [
        "9. The average time taken to complete a task is 45 minutes with a standard deviation of 10 minutes. If a random sample of 100 tasks is taken, what is the probability that the average completion time is more than 46 minutes?\n"
      ],
      "metadata": {
        "id": "QrsOmr4xU4gJ"
      }
    },
    {
      "cell_type": "code",
      "source": [
        "import numpy as np\n",
        "from scipy.stats import norm\n",
        "\n",
        "# given dataset\n",
        "mean = 45\n",
        "std = 10\n",
        "sample_size = 100\n",
        "\n",
        "# standard deviation of the sample mean\n",
        "std_sample_mean = std / np.sqrt(sample_size)\n",
        "\n",
        "# calculate z-score for the sample mean\n",
        "z_score = (46 - mean) / std_sample_mean\n",
        "\n",
        "# calculate the probability that the sample mean is greater than 46 minutes\n",
        "prob = 1 - norm.cdf(z_score)\n",
        "\n",
        "print(\"Probability:\", prob)"
      ],
      "metadata": {
        "colab": {
          "base_uri": "https://localhost:8080/"
        },
        "id": "R_4SsLXOUYle",
        "outputId": "07e659e7-65d9-41eb-b4bb-d6daa0161607"
      },
      "execution_count": null,
      "outputs": [
        {
          "output_type": "stream",
          "name": "stdout",
          "text": [
            "Probability: 0.15865525393145707\n"
          ]
        }
      ]
    },
    {
      "cell_type": "markdown",
      "source": [
        "10. A survey shows that the average number of books read by individuals in a year is 12 with a standard deviation of 4. If a random sample of 50 individuals is taken, what is the probability that the average number of books read is less than 11?"
      ],
      "metadata": {
        "id": "t47MrLiqrNpv"
      }
    },
    {
      "cell_type": "code",
      "source": [
        "import numpy as np\n",
        "from scipy.stats import norm\n",
        "\n",
        "# given dataset\n",
        "mean = 12\n",
        "std = 4\n",
        "sample_size = 50\n",
        "\n",
        "# standard deviation of the sample mean\n",
        "std_sample_mean = std / np.sqrt(sample_size)\n",
        "\n",
        "# calculate z-score for the sample mean\n",
        "z_score = (11 - mean) / std_sample_mean\n",
        "\n",
        "# calculate the probability that the sample mean is less than 11\n",
        "prob = norm.cdf(z_score)\n",
        "\n",
        "print(\"Probability:\", prob)"
      ],
      "metadata": {
        "colab": {
          "base_uri": "https://localhost:8080/"
        },
        "id": "eGDtsCFJqeIg",
        "outputId": "55686f7f-e66d-4717-ca65-67711283afba"
      },
      "execution_count": null,
      "outputs": [
        {
          "output_type": "stream",
          "name": "stdout",
          "text": [
            "Probability: 0.03854993587177085\n"
          ]
        }
      ]
    },
    {
      "cell_type": "markdown",
      "source": [
        "11. The average daily sales in a store are $1,000 with a standard deviation of $200. If a random sample of 30 days is taken, what is the probability that the average daily sales are more than $1,050?\n"
      ],
      "metadata": {
        "id": "eq_lzw_3rmNV"
      }
    },
    {
      "cell_type": "code",
      "source": [
        "import numpy as np\n",
        "from scipy.stats import norm\n",
        "\n",
        "# given dataset\n",
        "mean = 1000\n",
        "std = 200\n",
        "sample_size = 30\n",
        "\n",
        "# standard deviation of the sample mean\n",
        "std_sample_mean = std / np.sqrt(sample_size)\n",
        "\n",
        "# calculate z-score for the sample mean\n",
        "z_score = (1050 - mean) / std_sample_mean\n",
        "\n",
        "# calculate the probability that the sample mean is greater than 1050\n",
        "prob = 1 - norm.cdf(z_score)\n",
        "\n",
        "print(\"Probability:\", prob)"
      ],
      "metadata": {
        "colab": {
          "base_uri": "https://localhost:8080/"
        },
        "id": "0qyW4VfTrgBW",
        "outputId": "64ad7cc2-c10e-48a0-8ef8-c9c496cae2fc"
      },
      "execution_count": null,
      "outputs": [
        {
          "output_type": "stream",
          "name": "stdout",
          "text": [
            "Probability: 0.08545176011539879\n"
          ]
        }
      ]
    },
    {
      "cell_type": "markdown",
      "source": [
        "12. The average score of students in a math test is 80 with a standard deviation of 12. If a random sample of 25 students is taken, what is the probability that their average score is between 78 and 82?\n",
        "\n"
      ],
      "metadata": {
        "id": "90dUnrLbr6r1"
      }
    },
    {
      "cell_type": "code",
      "source": [
        "import numpy as np\n",
        "from scipy.stats import norm\n",
        "\n",
        "# given dataset\n",
        "mean = 80\n",
        "std = 12\n",
        "sample_size = 25\n",
        "\n",
        "# standard deviation of the sample mean\n",
        "std_sample_mean = std / np.sqrt(sample_size)\n",
        "\n",
        "# calculate z-scores for the lower and upper bounds\n",
        "z_lower = (78 - mean) / std_sample_mean\n",
        "z_upper = (82 - mean) / std_sample_mean\n",
        "\n",
        "# calculate the probability that the average score is between 78 and 82\n",
        "prob = norm.cdf(z_upper) - norm.cdf(z_lower)\n",
        "\n",
        "print(\"Probability:\", prob)"
      ],
      "metadata": {
        "colab": {
          "base_uri": "https://localhost:8080/"
        },
        "id": "Bbiip3T-r0k2",
        "outputId": "398b6067-e29d-47ca-b273-555600a70a93"
      },
      "execution_count": null,
      "outputs": [
        {
          "output_type": "stream",
          "name": "stdout",
          "text": [
            "Probability: 0.5953432380727137\n"
          ]
        }
      ]
    },
    {
      "cell_type": "markdown",
      "source": [
        "13. The average yield of a crop per acre is 1,500 kg with a standard deviation of 300 kg. If a random sample of 40 acres is taken, what is the probability that the average yield is more than 1,550 kg?\n",
        "\n"
      ],
      "metadata": {
        "id": "0wXp7FR-sJzp"
      }
    },
    {
      "cell_type": "code",
      "source": [
        "import numpy as np\n",
        "from scipy.stats import norm\n",
        "\n",
        "# given dataset\n",
        "mean = 1500\n",
        "std = 300\n",
        "sample_size = 40\n",
        "\n",
        "# standard deviation of the sample mean\n",
        "std_sample_mean = std / np.sqrt(sample_size)\n",
        "\n",
        "# calculate z-score for the sample mean\n",
        "z_score = (1550 - mean) / std_sample_mean\n",
        "\n",
        "# calculate the probability that the sample mean is greater than 1550\n",
        "prob = 1 - norm.cdf(z_score)\n",
        "\n",
        "print(\"Probability:\", prob)"
      ],
      "metadata": {
        "colab": {
          "base_uri": "https://localhost:8080/"
        },
        "id": "_F-HfEa3sGYr",
        "outputId": "c33a8a69-6246-43a4-d1ed-f6bfd8d35072"
      },
      "execution_count": null,
      "outputs": [
        {
          "output_type": "stream",
          "name": "stdout",
          "text": [
            "Probability: 0.14592027257189422\n"
          ]
        }
      ]
    },
    {
      "cell_type": "markdown",
      "source": [
        "14. The average life expectancy in a country is 75 years with a standard deviation of 5 years. If a random sample of 100 people is taken, what is the probability that their average life expectancy is between 74 and 76 years?\n"
      ],
      "metadata": {
        "id": "Mtfpw8jCsYMn"
      }
    },
    {
      "cell_type": "code",
      "source": [
        "import numpy as np\n",
        "from scipy.stats import norm\n",
        "\n",
        "# given dataset\n",
        "mean = 75\n",
        "std = 5\n",
        "sample_size = 100\n",
        "\n",
        "# standard deviation of the sample mean\n",
        "std_sample_mean = std / np.sqrt(sample_size)\n",
        "\n",
        "# calculate z-scores of the sample mean\n",
        "z_lower = (74 - mean) / std_sample_mean\n",
        "z_upper = (76 - mean) / std_sample_mean\n",
        "\n",
        "# calculate the probability that the average life expectancy is between 74 and 76 years\n",
        "prob = norm.cdf(z_upper) - norm.cdf(z_lower)\n",
        "\n",
        "print(\"Probability:\", prob)"
      ],
      "metadata": {
        "colab": {
          "base_uri": "https://localhost:8080/"
        },
        "id": "8P91oAaIsQiN",
        "outputId": "aa74f1e7-42dd-4045-f8f4-39c170cd98ee"
      },
      "execution_count": null,
      "outputs": [
        {
          "output_type": "stream",
          "name": "stdout",
          "text": [
            "Probability: 0.9544997361036416\n"
          ]
        }
      ]
    },
    {
      "cell_type": "markdown",
      "source": [
        "15. The average number of hours worked per week by employees in a company is 40 with a standard deviation of 5. If a random sample of 50 employees is taken, what is the probability that their average number of hours worked is less than 39 hours?\n"
      ],
      "metadata": {
        "id": "-nprVUdls8xf"
      }
    },
    {
      "cell_type": "code",
      "source": [
        "import numpy as np\n",
        "from scipy.stats import norm\n",
        "\n",
        "# given dataset\n",
        "mean = 40\n",
        "std = 5\n",
        "sample_size = 50\n",
        "\n",
        "# standard deviation of the sample mean\n",
        "std_sample_mean = std / np.sqrt(sample_size)\n",
        "\n",
        "# calculate z-score for the sample mean\n",
        "z_score = (39 - mean) / std_sample_mean\n",
        "\n",
        "# calculate the probability that the sample mean is less than 39 hours\n",
        "prob = norm.cdf(z_score)\n",
        "\n",
        "print(\"Probability:\", prob)"
      ],
      "metadata": {
        "colab": {
          "base_uri": "https://localhost:8080/"
        },
        "id": "4wsnJy0-s21L",
        "outputId": "8aaa3c6c-0ec8-4859-ffbc-e61ed4b88626"
      },
      "execution_count": null,
      "outputs": [
        {
          "output_type": "stream",
          "name": "stdout",
          "text": [
            "Probability: 0.07864960352514251\n"
          ]
        }
      ]
    },
    {
      "cell_type": "markdown",
      "source": [
        "16. The average amount of rainfall in a city is 30 inches per year with a standard deviation of 8 inches. If a random sample of 36 years is taken, what is the probability that the average annual rainfall is between 28 and 32 inches?\n",
        "\n"
      ],
      "metadata": {
        "id": "g7MBzjHbtS0y"
      }
    },
    {
      "cell_type": "code",
      "source": [
        "import numpy as np\n",
        "from scipy.stats import norm\n",
        "\n",
        "# given dataset\n",
        "mean = 30\n",
        "std = 8\n",
        "sample_size = 36\n",
        "\n",
        "# standard deviation of the sample mean\n",
        "std_sample_mean = std / np.sqrt(sample_size)\n",
        "\n",
        "# calculate z-scores of the sample mean\n",
        "z_lower = (28 - mean) / std_sample_mean\n",
        "z_upper = (32 - mean) / std_sample_mean\n",
        "\n",
        "# calculate the probability that the average annual rainfall is between 28 and 32 inches\n",
        "prob = norm.cdf(z_upper) - norm.cdf(z_lower)\n",
        "\n",
        "print(\"Probability:\", prob)\n"
      ],
      "metadata": {
        "colab": {
          "base_uri": "https://localhost:8080/"
        },
        "id": "4eScjy92tOFB",
        "outputId": "273e088b-4b2b-49a4-e7cd-3d9f3e73b423"
      },
      "execution_count": null,
      "outputs": [
        {
          "output_type": "stream",
          "name": "stdout",
          "text": [
            "Probability: 0.8663855974622838\n"
          ]
        }
      ]
    },
    {
      "cell_type": "markdown",
      "source": [],
      "metadata": {
        "id": "fkbF3HlrtwS6"
      }
    },
    {
      "cell_type": "markdown",
      "source": [
        "17. The average weight of a type of fruit is 200 grams with a standard deviation of 25 grams. If a random sample of 64 fruits is taken, what is the probability that their average weight is more than 205 grams?\n"
      ],
      "metadata": {
        "id": "UhcHyQrgtsmI"
      }
    },
    {
      "cell_type": "code",
      "source": [
        "import numpy as np\n",
        "from scipy.stats import norm\n",
        "\n",
        "# given dataset\n",
        "mean = 200\n",
        "std = 25\n",
        "sample_size = 64\n",
        "\n",
        "# standard deviation of the sample mean\n",
        "std_sample_mean = std / np.sqrt(sample_size)\n",
        "\n",
        "# calculate z-score for the sample mean\n",
        "z_score = (205 - mean) / std_sample_mean\n",
        "\n",
        "# calculate the probability that the sample mean is greater than 205 grams\n",
        "prob = 1 - norm.cdf(z_score)\n",
        "\n",
        "print(\"Probability:\", prob)\n"
      ],
      "metadata": {
        "colab": {
          "base_uri": "https://localhost:8080/"
        },
        "id": "x-rGtCTHtgCb",
        "outputId": "859a27e4-c749-4516-b1a2-f213f6575850"
      },
      "execution_count": null,
      "outputs": [
        {
          "output_type": "stream",
          "name": "stdout",
          "text": [
            "Probability: 0.054799291699557995\n"
          ]
        }
      ]
    },
    {
      "cell_type": "markdown",
      "source": [
        "18. The average annual income in a region is $50,000 with a standard deviation of $5,000. If a random sample of 49 individuals is taken, what is the probability that the average income is less than $48,000?\n",
        "\n"
      ],
      "metadata": {
        "id": "BfVo6a6ct98r"
      }
    },
    {
      "cell_type": "code",
      "source": [
        "import numpy as np\n",
        "from scipy.stats import norm\n",
        "\n",
        "# given dataset\n",
        "mean = 50000\n",
        "std = 5000\n",
        "sample_size = 49\n",
        "\n",
        "# standard deviation of the sample mean\n",
        "std_sample_mean = std / np.sqrt(sample_size)\n",
        "\n",
        "# calculate z-score for the sample mean\n",
        "z_score = (48000 - mean) / std_sample_mean\n",
        "\n",
        "# calculate the probability that the sample mean is less than 48000\n",
        "prob = norm.cdf(z_score)\n",
        "\n",
        "print(\"Probability:\", prob)"
      ],
      "metadata": {
        "colab": {
          "base_uri": "https://localhost:8080/"
        },
        "id": "BYSuBtYKt3W0",
        "outputId": "b9d94626-2154-4e0f-8ff9-1f232c4f437f"
      },
      "execution_count": null,
      "outputs": [
        {
          "output_type": "stream",
          "name": "stdout",
          "text": [
            "Probability: 0.002555130330427932\n"
          ]
        }
      ]
    },
    {
      "cell_type": "markdown",
      "source": [
        "19. The average price of a product is $20 with a standard deviation of $2. If a random sample of 100 products is taken, what is the probability that the average price is between $19.5 and $20.5?\n",
        "\n"
      ],
      "metadata": {
        "id": "tfYB0fpVu5wp"
      }
    },
    {
      "cell_type": "code",
      "source": [
        "import numpy as np\n",
        "from scipy.stats import norm\n",
        "\n",
        "# given dataset\n",
        "mean = 20\n",
        "std = 2\n",
        "sample_size = 100\n",
        "\n",
        "# standard deviation of the sample mean\n",
        "std_sample_mean = std / np.sqrt(sample_size)\n",
        "\n",
        "# calculate z-scores of the sample mean\n",
        "z_lower = (19.5 - mean) / std_sample_mean\n",
        "z_upper = (20.5 - mean) / std_sample_mean\n",
        "\n",
        "# calculate the probability that the average price is between 19.5 and 20.5\n",
        "prob = norm.cdf(z_upper) - norm.cdf(z_lower)\n",
        "\n",
        "print(\"Probability:\", prob)"
      ],
      "metadata": {
        "colab": {
          "base_uri": "https://localhost:8080/"
        },
        "id": "x43FImzTu1fQ",
        "outputId": "d7b0b78a-2ea0-40b8-d6c1-2bf553e28001"
      },
      "execution_count": null,
      "outputs": [
        {
          "output_type": "stream",
          "name": "stdout",
          "text": [
            "Probability: 0.9875806693484477\n"
          ]
        }
      ]
    },
    {
      "cell_type": "markdown",
      "source": [
        "20. The average fuel efficiency of cars is 25 miles per gallon with a standard deviation of 4 mpg. If a random sample of 64 cars is taken, what is the probability that their average fuel efficiency is more than 26 mpg?\n"
      ],
      "metadata": {
        "id": "HdLhUX7JvHdT"
      }
    },
    {
      "cell_type": "code",
      "source": [
        "import numpy as np\n",
        "from scipy.stats import norm\n",
        "\n",
        "# given dataset\n",
        "mean = 25\n",
        "std = 4\n",
        "sample_size = 64\n",
        "\n",
        "# standard deviation of the sample mean\n",
        "std_sample_mean = std / np.sqrt(sample_size)\n",
        "\n",
        "# calculate z-scores of the sample mean\n",
        "z_score = (26 - mean) / std_sample_mean\n",
        "\n",
        "# calculate the probability that the average fuel efficiency is greater than 26 mpg\n",
        "prob = 1 - norm.cdf(z_score)\n",
        "\n",
        "print(\"Probability:\", prob)\n"
      ],
      "metadata": {
        "colab": {
          "base_uri": "https://localhost:8080/"
        },
        "id": "TsOIbbOavDJh",
        "outputId": "af213b49-a2c0-4dd1-b71b-22c5471b5c17"
      },
      "execution_count": null,
      "outputs": [
        {
          "output_type": "stream",
          "name": "stdout",
          "text": [
            "Probability: 0.02275013194817921\n"
          ]
        }
      ]
    },
    {
      "cell_type": "code",
      "source": [],
      "metadata": {
        "id": "3egNht4pvb9M"
      },
      "execution_count": null,
      "outputs": []
    }
  ]
}