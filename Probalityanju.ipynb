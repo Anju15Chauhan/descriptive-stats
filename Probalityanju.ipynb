{
  "nbformat": 4,
  "nbformat_minor": 0,
  "metadata": {
    "colab": {
      "provenance": [],
      "authorship_tag": "ABX9TyMGs5gJXAMq/40SvI59TR+/",
      "include_colab_link": true
    },
    "kernelspec": {
      "name": "python3",
      "display_name": "Python 3"
    },
    "language_info": {
      "name": "python"
    }
  },
  "cells": [
    {
      "cell_type": "markdown",
      "metadata": {
        "id": "view-in-github",
        "colab_type": "text"
      },
      "source": [
        "<a href=\"https://colab.research.google.com/github/Anju15Chauhan/descriptive-stats/blob/main/Probalityanju.ipynb\" target=\"_parent\"><img src=\"https://colab.research.google.com/assets/colab-badge.svg\" alt=\"Open In Colab\"/></a>"
      ]
    },
    {
      "cell_type": "markdown",
      "source": [
        "##**Poisson’sDistribution**\n",
        " • It is a statistical probability distribution that distribution that\n",
        "describes the probabilityof a given numberof eventsoccurring within a fixedintervalof time or space.\n",
        "\n",
        " • It is characterized by a single parameter, λ (lambda), which\n",
        " represents the average number of events that occurs in the\n",
        " given interval.\n",
        "\n",
        " • Theformula forPoisson’sDistributingis:\n",
        " where,e=2.71828\n"
      ],
      "metadata": {
        "id": "6oZSyxIX8raW"
      }
    },
    {
      "cell_type": "markdown",
      "source": [
        "# **1**. What is the probability of rolling a sum of 7 with two six-sided dice?"
      ],
      "metadata": {
        "id": "967wL7Fl9Ohv"
      }
    },
    {
      "cell_type": "code",
      "execution_count": null,
      "metadata": {
        "id": "2UjCWFeP8WDH"
      },
      "outputs": [],
      "source": [
        "import math\n",
        "import scipy.stats as stats\n",
        "import numpy as np\n",
        "import pandas as pd\n",
        "import matplotlib.pyplot as plt\n",
        "import stats\n"
      ]
    },
    {
      "source": [
        "# Calculate the probability of rolling a sum of 7 with two six-sided dice\n",
        "def probability_of_sum_7():\n",
        "  # There are 6 possible combinations that result in a sum of 7\n",
        "  favorable_outcomes = 6\n",
        "  # There are 36 possible combinations in total\n",
        "  total_outcomes = 36\n",
        "  # Calculate the probability\n",
        "  probability = favorable_outcomes / total_outcomes\n",
        "  return probability\n",
        "\n",
        "\n",
        "probability = probability_of_sum_7()\n",
        "print(probability)"
      ],
      "cell_type": "code",
      "metadata": {
        "colab": {
          "base_uri": "https://localhost:8080/"
        },
        "id": "ArYfgoIR-URB",
        "outputId": "bd0549c7-80a7-40e2-8327-ff0ae62efee8"
      },
      "execution_count": null,
      "outputs": [
        {
          "output_type": "stream",
          "name": "stdout",
          "text": [
            "0.16666666666666666\n"
          ]
        }
      ]
    },
    {
      "cell_type": "markdown",
      "source": [
        "2. A bag contains 5 red, 3 green, and 2 blue marbles. What is the probability of randomly selecting a green marble?\n"
      ],
      "metadata": {
        "id": "m-o3rJtyAY-r"
      }
    },
    {
      "cell_type": "code",
      "source": [
        "# define green marbles\n",
        "green_marbles = 3\n",
        "\n",
        "# define total marbles\n",
        "total_marbles = 5 + 3 + 2\n",
        "\n",
        "# calculate probability\n",
        "probability = green_marbles / total_marbles\n",
        "\n",
        "print(probability)\n"
      ],
      "metadata": {
        "colab": {
          "base_uri": "https://localhost:8080/"
        },
        "id": "9czve5Lg-Zq4",
        "outputId": "3b51f92d-cac5-4746-f79c-9d7c7c7c279d"
      },
      "execution_count": null,
      "outputs": [
        {
          "output_type": "stream",
          "name": "stdout",
          "text": [
            "0.3\n"
          ]
        }
      ]
    },
    {
      "cell_type": "markdown",
      "source": [
        "3. What is the probability of drawing a king from a standard deck of 52 playing cards?\n"
      ],
      "metadata": {
        "id": "WO0e7TCtAyqp"
      }
    },
    {
      "cell_type": "code",
      "source": [
        "# Define total no. of cards\n",
        "total_cards = 52\n",
        "\n",
        "# Define no. of kings\n",
        "kings = 4\n",
        "\n",
        "# Calculate probability\n",
        "probability = kings / total_cards\n",
        "\n",
        "print(probability)"
      ],
      "metadata": {
        "colab": {
          "base_uri": "https://localhost:8080/"
        },
        "id": "0S_L3NkdAsyC",
        "outputId": "a8097c43-0e4a-460d-983b-cbc73fd75a6a"
      },
      "execution_count": null,
      "outputs": [
        {
          "output_type": "stream",
          "name": "stdout",
          "text": [
            "0.07692307692307693\n"
          ]
        }
      ]
    },
    {
      "cell_type": "markdown",
      "source": [
        "4. A family has three children. What is the probability that they have exactly two girls?\n"
      ],
      "metadata": {
        "id": "5VJqkD7mBFCb"
      }
    },
    {
      "cell_type": "code",
      "source": [
        "import itertools\n",
        "\n",
        "# Define the possible outcomes for each child\n",
        "outcomes = ['B', 'G']\n",
        "\n",
        "# Generate all possible combinations of outcomes for three children\n",
        "all_combinations = list(itertools.product(outcomes, repeat=3))\n",
        "\n",
        "# Count the number of favorable outcomes (exactly two girls)\n",
        "favorable_combinations = [comb for comb in all_combinations if comb.count('G') == 2]\n",
        "\n",
        "# Calculate the probability\n",
        "total_outcomes = len(all_combinations)\n",
        "favorable_count = len(favorable_combinations)\n",
        "probability = favorable_count / total_outcomes\n",
        "\n",
        "# Print the results\n",
        "print(f\"Total number of outcomes: {total_outcomes}\")\n",
        "print(f\"Number of favorable outcomes (exactly two girls): {favorable_count}\")\n",
        "print(f\"Probability of having exactly two girls: {probability:.4f}\")\n",
        "\n",
        "# Verify the combinations that have exactly two girls\n",
        "print(f\"Favorable combinations: {favorable_combinations}\")\n"
      ],
      "metadata": {
        "colab": {
          "base_uri": "https://localhost:8080/"
        },
        "id": "qAI9K-xyCqkt",
        "outputId": "e09e4d9f-df31-4f47-f5d3-5d7ee8c5c7a8"
      },
      "execution_count": null,
      "outputs": [
        {
          "output_type": "stream",
          "name": "stdout",
          "text": [
            "Total number of outcomes: 8\n",
            "Number of favorable outcomes (exactly two girls): 3\n",
            "Probability of having exactly two girls: 0.3750\n",
            "Favorable combinations: [('B', 'G', 'G'), ('G', 'B', 'G'), ('G', 'G', 'B')]\n"
          ]
        }
      ]
    },
    {
      "cell_type": "code",
      "source": [
        "import math\n",
        "import scipy.stats as stats\n",
        "\n",
        "mu = 3 # mean\n",
        "x  = 2 # sample\n",
        "\n",
        "# using pmf to calculate the probability mass function\n",
        "probability = stats.poisson.pmf(x, mu)\n",
        "print(probability)"
      ],
      "metadata": {
        "colab": {
          "base_uri": "https://localhost:8080/"
        },
        "id": "VAOlGXeIElUo",
        "outputId": "18f459ac-5b94-4a59-c955-e28eae6c8470"
      },
      "execution_count": null,
      "outputs": [
        {
          "output_type": "stream",
          "name": "stdout",
          "text": [
            "0.22404180765538775\n"
          ]
        }
      ]
    },
    {
      "cell_type": "markdown",
      "source": [
        "5. What is the probability of flipping three coins and getting exactly two heads?\n"
      ],
      "metadata": {
        "id": "6xeMA148Dv2K"
      }
    },
    {
      "cell_type": "code",
      "source": [
        "import math\n",
        "import scipy.stats as stats\n",
        "\n",
        "mu = 3 # mean\n",
        "x  = 2 # sample\n",
        "\n",
        "# using pmf to calculate the probability mass function\n",
        "probability = stats.poisson.pmf(x, mu)\n",
        "print(probability)"
      ],
      "metadata": {
        "colab": {
          "base_uri": "https://localhost:8080/"
        },
        "id": "iOK6R7DtDmSP",
        "outputId": "0870acc5-3c05-4c58-e632-77cd237779d2"
      },
      "execution_count": null,
      "outputs": [
        {
          "output_type": "stream",
          "name": "stdout",
          "text": [
            "0.22404180765538775\n"
          ]
        }
      ]
    },
    {
      "cell_type": "markdown",
      "source": [
        "6. A box contains 10 light bulbs, 3 of which are defective. What is the probability of randomly selecting a non-defective light bulb?\n"
      ],
      "metadata": {
        "id": "PxUvVioZE-hJ"
      }
    },
    {
      "cell_type": "code",
      "source": [
        "mu = 3 # mean\n",
        "x  = 7 # sample\n",
        "\n",
        "# using pmf to calculate the probability mass function\n",
        "probability = stats.poisson.pmf(x, mu)\n",
        "print(probability)"
      ],
      "metadata": {
        "colab": {
          "base_uri": "https://localhost:8080/"
        },
        "id": "YV-jns-6EQbr",
        "outputId": "a39e55c4-c271-4d6a-a643-e3fbfa0db80b"
      },
      "execution_count": null,
      "outputs": [
        {
          "output_type": "stream",
          "name": "stdout",
          "text": [
            "0.02160403145248382\n"
          ]
        }
      ]
    },
    {
      "cell_type": "markdown",
      "source": [
        "7. In a class of 20 students, 12 are girls. What is the probability of randomly selecting a girl?\n",
        "\n"
      ],
      "metadata": {
        "id": "d_Ld3qgZFMwe"
      }
    },
    {
      "cell_type": "code",
      "source": [
        "mu = 12 # mean\n",
        "x  = 1 # sample\n",
        "\n",
        "# using pmf to calculate the probability mass function\n",
        "probability = stats.poisson.pmf(x, mu)\n",
        "print(probability)"
      ],
      "metadata": {
        "colab": {
          "base_uri": "https://localhost:8080/"
        },
        "id": "nC6CWmJDFJ0I",
        "outputId": "69f1ecf7-3037-49b4-e2f7-62513cb69010"
      },
      "execution_count": null,
      "outputs": [
        {
          "output_type": "stream",
          "name": "stdout",
          "text": [
            "7.373054823993849e-05\n"
          ]
        }
      ]
    },
    {
      "cell_type": "markdown",
      "source": [
        "8. What is the probability of getting at least one heads in three flips of a fair coin?\n"
      ],
      "metadata": {
        "id": "mkH2ZCtfFWRY"
      }
    },
    {
      "cell_type": "code",
      "source": [
        "mu = 1 # mean\n",
        "x  = 0 # sample\n",
        "\n",
        "# using pmf to calculate the probability mass function\n",
        "probability = stats.poisson.pmf(x, mu)\n",
        "print(probability)"
      ],
      "metadata": {
        "colab": {
          "base_uri": "https://localhost:8080/"
        },
        "id": "mmHIB9g_FSsA",
        "outputId": "e01b4a93-8c89-4bb9-8fb6-2a925e40d368"
      },
      "execution_count": null,
      "outputs": [
        {
          "output_type": "stream",
          "name": "stdout",
          "text": [
            "0.36787944117144233\n"
          ]
        }
      ]
    },
    {
      "cell_type": "markdown",
      "source": [
        "9. A card is drawn from a deck. What is the probability that it is a heart or a queen?\n"
      ],
      "metadata": {
        "id": "Jyt9Oc7TFcfz"
      }
    },
    {
      "cell_type": "code",
      "source": [
        "mu = 2 # mean\n",
        "x  = 2 # sample\n",
        "\n",
        "# using pmf to calculate the probability mass function\n",
        "probability = stats.poisson.pmf(x, mu)\n",
        "print(probability)"
      ],
      "metadata": {
        "colab": {
          "base_uri": "https://localhost:8080/"
        },
        "id": "0FxkBN4wFZFa",
        "outputId": "68b5c086-5135-4d9a-ce40-3af8195068b6"
      },
      "execution_count": null,
      "outputs": [
        {
          "output_type": "stream",
          "name": "stdout",
          "text": [
            "0.2706705664732254\n"
          ]
        }
      ]
    },
    {
      "cell_type": "markdown",
      "source": [
        "10. What is the probability of rolling an even number on a six-sided die?\n",
        "\n"
      ],
      "metadata": {
        "id": "pMbeUJFrFoK5"
      }
    },
    {
      "cell_type": "code",
      "source": [
        "mu = 30 # mean\n",
        "x  = 15 # sample\n",
        "\n",
        "# using pmf to calculate the probability mass function\n",
        "probability = stats.poisson.pmf(x, mu)\n",
        "print(probability)"
      ],
      "metadata": {
        "colab": {
          "base_uri": "https://localhost:8080/"
        },
        "id": "IGKhmXijFk6G",
        "outputId": "88f008ee-a111-4d91-9e46-939f3dd23156"
      },
      "execution_count": null,
      "outputs": [
        {
          "output_type": "stream",
          "name": "stdout",
          "text": [
            "0.0010267973817236365\n"
          ]
        }
      ]
    },
    {
      "cell_type": "markdown",
      "source": [
        "11. In a lottery, you must choose 6 numbers out of 49. What is the probability of winning the jackpot?\n"
      ],
      "metadata": {
        "id": "I0vigQMhF2bo"
      }
    },
    {
      "cell_type": "code",
      "source": [
        "mu = 49 # mean\n",
        "x  = 6 # sample\n",
        "\n",
        "# using pmf to calculate the probability mass function\n",
        "probability = stats.poisson.pmf(x, mu)\n",
        "print(probability)"
      ],
      "metadata": {
        "colab": {
          "base_uri": "https://localhost:8080/"
        },
        "id": "SL5sAxjXFyIu",
        "outputId": "0babab6f-d4fc-4286-dee5-c5f2128ee81a"
      },
      "execution_count": null,
      "outputs": [
        {
          "output_type": "stream",
          "name": "stdout",
          "text": [
            "1.0078928642863728e-14\n"
          ]
        }
      ]
    },
    {
      "cell_type": "markdown",
      "source": [
        "12. What is the probability of drawing two aces in a row from a standard deck of 52 cards, without replacement?\n",
        "\n"
      ],
      "metadata": {
        "id": "fYBmY6sBF9yZ"
      }
    },
    {
      "cell_type": "code",
      "source": [
        "mu = 13 # mean\n",
        "x  = 2 # sample\n",
        "\n",
        "# using pmf to calculate the probability mass function\n",
        "probability = stats.poisson.pmf(x, mu)\n",
        "print(probability)"
      ],
      "metadata": {
        "colab": {
          "base_uri": "https://localhost:8080/"
        },
        "id": "1wt0gBmyF5UM",
        "outputId": "8821f5ca-d12d-4f87-a4c1-0f0a4af07daf"
      },
      "execution_count": null,
      "outputs": [
        {
          "output_type": "stream",
          "name": "stdout",
          "text": [
            "0.00019099783488989925\n"
          ]
        }
      ]
    },
    {
      "cell_type": "markdown",
      "source": [
        "13. A jar contains 6 red, 4 green, and 5 blue candies. What is the probability of picking two red candies in a row, without replacement?\n",
        "\n"
      ],
      "metadata": {
        "id": "Zd6Ch0YYGMvK"
      }
    },
    {
      "cell_type": "code",
      "source": [
        "mu = 15 # mean\n",
        "x  = 2 # sample\n",
        "\n",
        "# using pmf to calculate the probability mass function\n",
        "probability = stats.poisson.pmf(x, mu)\n",
        "print(probability)"
      ],
      "metadata": {
        "colab": {
          "base_uri": "https://localhost:8080/"
        },
        "id": "C0MRw8p3GG2H",
        "outputId": "7f9d1633-80e3-47cb-ddf0-f8c21b85d861"
      },
      "execution_count": null,
      "outputs": [
        {
          "output_type": "stream",
          "name": "stdout",
          "text": [
            "3.4414011056455366e-05\n"
          ]
        }
      ]
    },
    {
      "cell_type": "markdown",
      "source": [
        "14. What is the probability of rolling a die twice and getting a 3 both times?\n"
      ],
      "metadata": {
        "id": "KyOS_B2nGfsP"
      }
    },
    {
      "cell_type": "code",
      "source": [
        "mu = 36 # mean\n",
        "x  = 6 # sample\n",
        "\n",
        "# using pmf to calculate the probability mass function\n",
        "probability = stats.poisson.pmf(x, mu)\n",
        "print(probability)"
      ],
      "metadata": {
        "colab": {
          "base_uri": "https://localhost:8080/"
        },
        "id": "b2jiRA34GYca",
        "outputId": "294037aa-0306-46c5-8f40-2e5131443676"
      },
      "execution_count": null,
      "outputs": [
        {
          "output_type": "stream",
          "name": "stdout",
          "text": [
            "7.01263378447631e-10\n"
          ]
        }
      ]
    },
    {
      "cell_type": "markdown",
      "source": [
        "15. In a class of 30 students, what is the probability that at least two students have the same birthday? (Birthday Paradox)\n",
        "\n"
      ],
      "metadata": {
        "id": "i-BmtrkFHAwY"
      }
    },
    {
      "cell_type": "code",
      "source": [
        "mu = 365 # mean\n",
        "x  = 2 # sample\n",
        "\n",
        "# using pmf to calculate the probability mass function\n",
        "probability = stats.poisson.pmf(x, mu)\n",
        "print(probability)"
      ],
      "metadata": {
        "colab": {
          "base_uri": "https://localhost:8080/"
        },
        "id": "LGcDb3G7GoYS",
        "outputId": "45f29391-2484-408f-b253-8ffb86832468"
      },
      "execution_count": null,
      "outputs": [
        {
          "output_type": "stream",
          "name": "stdout",
          "text": [
            "2.0233445249971913e-154\n"
          ]
        }
      ]
    },
    {
      "cell_type": "markdown",
      "source": [
        "16. A password consists of 4 digits. What is the probability of randomly guessing the correct password?\n"
      ],
      "metadata": {
        "id": "5lcX77xVHy1N"
      }
    },
    {
      "cell_type": "code",
      "source": [
        "mu = 4 # mean\n",
        "x  = 1 # sample\n",
        "\n",
        "# using pmf to calculate the probability mass function\n",
        "probability = stats.poisson.pmf(x, mu)\n",
        "print(probability)"
      ],
      "metadata": {
        "colab": {
          "base_uri": "https://localhost:8080/"
        },
        "id": "HPfG_MOrHPG6",
        "outputId": "a077de54-b4d9-4c6a-bc28-fcd4a931e57a"
      },
      "execution_count": null,
      "outputs": [
        {
          "output_type": "stream",
          "name": "stdout",
          "text": [
            "0.07326255555493673\n"
          ]
        }
      ]
    },
    {
      "cell_type": "markdown",
      "source": [
        "17. What is the probability of drawing a red card from a standard deck of 52 cards?\n"
      ],
      "metadata": {
        "id": "TqWO_ERBIKwD"
      }
    },
    {
      "cell_type": "code",
      "source": [
        "mu = 52 # mean\n",
        "x  = 13 # sample\n",
        "\n",
        "# using pmf to calculate the probability mass function\n",
        "probability = stats.poisson.pmf(x, mu)\n",
        "print(probability)"
      ],
      "metadata": {
        "colab": {
          "base_uri": "https://localhost:8080/"
        },
        "id": "Bj7YTaE2H8z_",
        "outputId": "404670fe-cd98-40e7-9e01-844b38148bf7"
      },
      "execution_count": null,
      "outputs": [
        {
          "output_type": "stream",
          "name": "stdout",
          "text": [
            "8.520205935390852e-11\n"
          ]
        }
      ]
    },
    {
      "cell_type": "markdown",
      "source": [
        "18. What is the probability that a randomly chosen day of the week is a weekend day (Saturday or Sunday)?\n"
      ],
      "metadata": {
        "id": "r-g-TJAbIZHj"
      }
    },
    {
      "cell_type": "code",
      "source": [
        "mu = 7 # mean\n",
        "x  = 2 # sample\n",
        "\n",
        "# using pmf to calculate the probability mass function\n",
        "probability = stats.poisson.pmf(x, mu)\n",
        "print(probability)"
      ],
      "metadata": {
        "colab": {
          "base_uri": "https://localhost:8080/"
        },
        "id": "wFHS-hquIVzm",
        "outputId": "b39bdaed-a776-4213-f763-e745f5023d18"
      },
      "execution_count": null,
      "outputs": [
        {
          "output_type": "stream",
          "name": "stdout",
          "text": [
            "0.022341108156085643\n"
          ]
        }
      ]
    },
    {
      "cell_type": "markdown",
      "source": [
        "19. If a coin is flipped twice, what is the probability of getting two tails?\n"
      ],
      "metadata": {
        "id": "ZkFLlCgpIhnb"
      }
    },
    {
      "cell_type": "code",
      "source": [
        "mu = 2 # mean\n",
        "x  = 1 # sample\n",
        "\n",
        "# using pmf to calculate the probability mass function\n",
        "probability = stats.poisson.pmf(x, mu)\n",
        "print(probability)"
      ],
      "metadata": {
        "colab": {
          "base_uri": "https://localhost:8080/"
        },
        "id": "LhdnYpgeId7a",
        "outputId": "cc4e616e-e2be-4005-a5a6-d7fc51a48850"
      },
      "execution_count": null,
      "outputs": [
        {
          "output_type": "stream",
          "name": "stdout",
          "text": [
            "0.2706705664732254\n"
          ]
        }
      ]
    },
    {
      "cell_type": "markdown",
      "source": [
        "20. A drawer contains 4 pairs of socks in different colors. If two socks are randomly selected, what is the probability that they form a matching pair?\n",
        "\n"
      ],
      "metadata": {
        "id": "laaUddQVIveE"
      }
    },
    {
      "cell_type": "code",
      "source": [
        "mu = 8 # mean\n",
        "x  = 2 # sample\n",
        "\n",
        "# using pmf to calculate the probability mass function\n",
        "probability = stats.poisson.pmf(x, mu)\n",
        "print(probability)"
      ],
      "metadata": {
        "colab": {
          "base_uri": "https://localhost:8080/"
        },
        "id": "lSJhVC-EIsXC",
        "outputId": "0d5f0b0f-92c2-44fd-c6a7-8f5cfbb423b2"
      },
      "execution_count": null,
      "outputs": [
        {
          "output_type": "stream",
          "name": "stdout",
          "text": [
            "0.010734804092880374\n"
          ]
        }
      ]
    },
    {
      "cell_type": "code",
      "source": [],
      "metadata": {
        "id": "LaQg2WRnI72i"
      },
      "execution_count": null,
      "outputs": []
    }
  ]
}