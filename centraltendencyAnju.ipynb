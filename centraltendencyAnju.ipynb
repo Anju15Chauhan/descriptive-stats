{
  "nbformat": 4,
  "nbformat_minor": 0,
  "metadata": {
    "colab": {
      "provenance": [],
      "authorship_tag": "ABX9TyO1LOm07sTqx/Ys+mozs6yJ",
      "include_colab_link": true
    },
    "kernelspec": {
      "name": "python3",
      "display_name": "Python 3"
    },
    "language_info": {
      "name": "python"
    }
  },
  "cells": [
    {
      "cell_type": "markdown",
      "metadata": {
        "id": "view-in-github",
        "colab_type": "text"
      },
      "source": [
        "<a href=\"https://colab.research.google.com/github/Anju15Chauhan/descriptive-stats/blob/main/centraltendencyAnju.ipynb\" target=\"_parent\"><img src=\"https://colab.research.google.com/assets/colab-badge.svg\" alt=\"Open In Colab\"/></a>"
      ]
    },
    {
      "cell_type": "markdown",
      "source": [],
      "metadata": {
        "id": "lRGfbV2227JQ"
      }
    },
    {
      "cell_type": "markdown",
      "source": [
        "Central Tendency\n",
        " • Central tendency is a statistical concept that refersto the\n",
        "typical or central value of a distribution of data.\n",
        " • It is a measure that summarizes the center of a data set,\n",
        "indicating where most of the data points are clustered\n",
        "around.\n",
        " • They are particularly useful for describing the center of a\n",
        "large set of data, such as the salaries of a company's\n",
        "employees, the heights of a population, or the scores of a\n",
        "test.\n",
        " 6\n",
        "Themostcommonmeasuresofcentraltendencyare:\n",
        " 1. Mean: The arithmetic mean is the sum of all the data\n",
        "points divided by the number of data points. It is sensitive\n",
        "to outliers.\n",
        " 2. Median:Themedianisthemiddlevaluewhen thedatais\n",
        "arranged in order. It is less sensitive to outliers than the\n",
        "mean.\n",
        " 3. Mode: The mode is the value that occurs most frequently\n",
        " in the data set. There can be one or more modes in a data\n",
        " set.\n"
      ],
      "metadata": {
        "id": "Pw3pmZSE277v"
      }
    },
    {
      "cell_type": "markdown",
      "source": [
        "**\n",
        "1.Find the mean score of a student who received the following test scores: 85, 90, 78, 92, and 88.\n",
        "**"
      ],
      "metadata": {
        "id": "1RDxLlka3B5U"
      }
    },
    {
      "cell_type": "code",
      "source": [
        "import statistics\n",
        "\n",
        "# Define the dataset\n",
        "scores = [85, 90, 78, 92, 88]\n",
        "\n",
        "# Calculate the mean score\n",
        "mean_score = statistics.mean(scores)\n",
        "\n",
        "# Calculate the median\n",
        "median_score = statistics.median(scores)\n",
        "\n",
        "# Calculate the mode\n",
        "mode_score = statistics.mode(scores)\n",
        "\n",
        "# Print the results\n",
        "print(\"Mean Score:\", mean_score)\n",
        "print(\"Median Score:\", median_score)\n",
        "print(\"Mode Score:\", mode_score)"
      ],
      "metadata": {
        "colab": {
          "base_uri": "https://localhost:8080/"
        },
        "id": "WYTzVhP826YT",
        "outputId": "3b3da346-5515-4af2-cd09-0ef5d0931e93"
      },
      "execution_count": null,
      "outputs": [
        {
          "output_type": "stream",
          "name": "stdout",
          "text": [
            "Mean Score: 86.6\n",
            "Median Score: 88\n",
            "Mode Score: 85\n"
          ]
        }
      ]
    },
    {
      "cell_type": "markdown",
      "source": [
        "2.Calculate the median of the following set of numbers: 12, 15, 22, 9, 14, 18, and 20."
      ],
      "metadata": {
        "id": "IUGzOw1c4Cvf"
      }
    },
    {
      "cell_type": "code",
      "source": [
        "# Define the dataset\n",
        "numbers = [12, 15, 22, 9, 14, 18, 20]\n",
        "\n",
        "# Calculate the median\n",
        "median = statistics.median(numbers)\n",
        "\n",
        "# Calculate the mean\n",
        "mean = statistics.mean(numbers)\n",
        "\n",
        "# Calculate the mode\n",
        "mode = statistics.mode(numbers)\n",
        "\n",
        "# Print the results\n",
        "print(\"Median:\", median)\n",
        "print(\"Mean:\", mean)\n",
        "print(\"Mode:\", mode)"
      ],
      "metadata": {
        "colab": {
          "base_uri": "https://localhost:8080/"
        },
        "id": "Ar5dyVnQ37hD",
        "outputId": "2889fdc8-7b25-4706-839f-68313e39d70a"
      },
      "execution_count": null,
      "outputs": [
        {
          "output_type": "stream",
          "name": "stdout",
          "text": [
            "Median: 15\n",
            "Mean: 15.714285714285714\n",
            "Mode: 12\n"
          ]
        }
      ]
    },
    {
      "cell_type": "markdown",
      "source": [
        "3.Determine the mode of the following set of data: 3, 7, 3, 5, 9, 3, 8, 7, 9.\n",
        "\n"
      ],
      "metadata": {
        "id": "zshIDOcU4wPN"
      }
    },
    {
      "cell_type": "code",
      "source": [
        "# Define the dataset\n",
        "data = [3, 7, 3, 5, 9, 3, 8, 7, 9]\n",
        "\n",
        "# Calculate the mean\n",
        "mean = statistics.mean(data)\n",
        "\n",
        "# Calculate the median\n",
        "median = statistics.median(data)\n",
        "\n",
        "# Calculate the standard deviation\n",
        "std_dev = statistics.stdev(data)\n",
        "\n",
        "# Calculate the mode\n",
        "mode = statistics.mode(data)\n",
        "\n",
        "# Print the result\n",
        "print(\"Mean:\", mean)\n",
        "print(\"Median:\", median)\n",
        "print(\"Standard Deviation:\", std_dev)\n",
        "print(\"Mode:\", mode)"
      ],
      "metadata": {
        "colab": {
          "base_uri": "https://localhost:8080/"
        },
        "id": "ajzXy_-t4rEA",
        "outputId": "3e2013e8-987f-44c2-88c4-d606ef3c4a33"
      },
      "execution_count": null,
      "outputs": [
        {
          "output_type": "stream",
          "name": "stdout",
          "text": [
            "Mean: 6\n",
            "Median: 7\n",
            "Standard Deviation: 2.5495097567963922\n",
            "Mode: 3\n"
          ]
        }
      ]
    },
    {
      "cell_type": "markdown",
      "source": [
        "4.Find the mean salary of employees in a company if their salaries are $45,000, $50,000, $55,000, $60,000, and $65,000.\n"
      ],
      "metadata": {
        "id": "L1-1iG1o56Th"
      }
    },
    {
      "cell_type": "code",
      "source": [
        "# Define the dataset\n",
        "salaries = [45000, 50000, 55000, 60000, 65000]\n",
        "\n",
        "# Calculate the mean salary\n",
        "mean_salary = statistics.mean(salaries)\n",
        "\n",
        "# Print the result\n",
        "print(\"Mean Salary:\", mean_salary)"
      ],
      "metadata": {
        "colab": {
          "base_uri": "https://localhost:8080/"
        },
        "id": "eneYkivv5FZ0",
        "outputId": "a8ce7f9b-9772-4e80-c5fe-572ed678ba50"
      },
      "execution_count": null,
      "outputs": [
        {
          "output_type": "stream",
          "name": "stdout",
          "text": [
            "Mean Salary: 55000\n"
          ]
        }
      ]
    },
    {
      "cell_type": "markdown",
      "source": [
        "5.Calculate the median house price in a neighborhood with the following prices: $300,000, $320,000, $250,000, $280,000, $310,000.\n",
        "\n"
      ],
      "metadata": {
        "id": "RIrx-P1a6FhZ"
      }
    },
    {
      "cell_type": "code",
      "source": [
        "# Define the dataset\n",
        "house_prices = [300000, 320000, 250000, 280000, 310000]\n",
        "\n",
        "# Calculate the median house price\n",
        "median_price = statistics.median(house_prices)\n",
        "\n",
        "# Print the result\n",
        "print(\"Median House Price:\", median_price)"
      ],
      "metadata": {
        "colab": {
          "base_uri": "https://localhost:8080/"
        },
        "id": "EqH_Norq5_uc",
        "outputId": "9ca7e2c4-3397-4a13-99a7-c8591dd694c4"
      },
      "execution_count": null,
      "outputs": [
        {
          "output_type": "stream",
          "name": "stdout",
          "text": [
            "Median House Price: 300000\n"
          ]
        }
      ]
    },
    {
      "cell_type": "markdown",
      "source": [
        "6.Determine the mode of the number of books read by students in a class: 5, 6, 7, 5, 8, 6, 5.\n"
      ],
      "metadata": {
        "id": "g2cefpHG6Qzz"
      }
    },
    {
      "cell_type": "code",
      "source": [
        "# Define the dataset\n",
        "books_read = [5, 6, 7, 5, 8, 6, 5]\n",
        "\n",
        "# Calculate the mode\n",
        "mode = statistics.mode(books_read)\n",
        "\n",
        "# Print the result\n",
        "print(\"Mode:\", mode)"
      ],
      "metadata": {
        "colab": {
          "base_uri": "https://localhost:8080/"
        },
        "id": "v9imKZO36Mbf",
        "outputId": "c363b668-1b57-4049-d9ab-f58b7da7c896"
      },
      "execution_count": null,
      "outputs": [
        {
          "output_type": "stream",
          "name": "stdout",
          "text": [
            "Mode: 5\n"
          ]
        }
      ]
    },
    {
      "cell_type": "markdown",
      "source": [
        "7.Find the mean height of basketball players on a team if their heights are 6'2\", 6'4\", 6'5\", 6'7\", and 6'8\".\n",
        "\n"
      ],
      "metadata": {
        "id": "blOJaHQX6bYW"
      }
    },
    {
      "cell_type": "code",
      "source": [
        "# Define the dataset\n",
        "heights = [62, 64, 65, 67, 68]\n",
        "\n",
        "# Calculate the mean height\n",
        "mean_height = statistics.mean(heights)\n",
        "\n",
        "# Print the result\n",
        "print(\"Mean Height:\", mean_height)"
      ],
      "metadata": {
        "colab": {
          "base_uri": "https://localhost:8080/"
        },
        "id": "j1bQbzm16X6s",
        "outputId": "f16858d3-a151-4497-d26d-d374e07b1f88"
      },
      "execution_count": null,
      "outputs": [
        {
          "output_type": "stream",
          "name": "stdout",
          "text": [
            "Mean Height: 65.2\n"
          ]
        }
      ]
    },
    {
      "cell_type": "markdown",
      "source": [
        "8.Calculate the median age of participants in a survey: 25, 32, 28, 40, 35, 29, 30.\n"
      ],
      "metadata": {
        "id": "B84GAaEj6jGT"
      }
    },
    {
      "cell_type": "code",
      "source": [
        "# Define the dataset\n",
        "ages = [25, 32, 28, 40, 35, 29, 30]\n",
        "\n",
        "# Calculate the median age\n",
        "median_age = statistics.median(ages)\n",
        "\n",
        "# Print the result\n",
        "print(\"Median Age:\", median_age)"
      ],
      "metadata": {
        "colab": {
          "base_uri": "https://localhost:8080/"
        },
        "id": "-N6WZszR6f1H",
        "outputId": "741f70ed-b7b0-4c6d-93b9-d261c3f38893"
      },
      "execution_count": null,
      "outputs": [
        {
          "output_type": "stream",
          "name": "stdout",
          "text": [
            "Median Age: 30\n"
          ]
        }
      ]
    },
    {
      "cell_type": "markdown",
      "source": [
        "9.Find the mean number of hours worked per week by employees if the hours are 40, 45, 35, 50, and 38.\n",
        "\n"
      ],
      "metadata": {
        "id": "r4YiKDQm6tq4"
      }
    },
    {
      "cell_type": "code",
      "source": [
        "# Define the dataset\n",
        "hours = [40, 45, 35, 50, 38]\n",
        "\n",
        "# Calculate the mean number of hours\n",
        "mean_hours = statistics.mean(hours)\n",
        "\n",
        "# Print the result\n",
        "print(\"Mean Hours:\", mean_hours)"
      ],
      "metadata": {
        "colab": {
          "base_uri": "https://localhost:8080/"
        },
        "id": "a_2m2_qC6nsW",
        "outputId": "2c4fbd00-ba95-4003-b121-d97bbccd52a7"
      },
      "execution_count": null,
      "outputs": [
        {
          "output_type": "stream",
          "name": "stdout",
          "text": [
            "Mean Hours: 41.6\n"
          ]
        }
      ]
    },
    {
      "cell_type": "markdown",
      "source": [
        "10.Calculate the median income of households in a city with the following incomes: $55,000, $60,000, $50,000, $70,000, $65,000.\n",
        "\n"
      ],
      "metadata": {
        "id": "2_RsjZ8x60uA"
      }
    },
    {
      "cell_type": "code",
      "source": [
        "# Define the dataset\n",
        "incomes = [55000, 60000, 50000, 70000, 65000]\n",
        "\n",
        "# Calculate the median income\n",
        "median_income = statistics.median(incomes)\n",
        "\n",
        "# Print the result\n",
        "print(\"Median Income:\", median_income)"
      ],
      "metadata": {
        "colab": {
          "base_uri": "https://localhost:8080/"
        },
        "id": "5k30BkP-6xas",
        "outputId": "20bffad8-2dac-4bc6-b577-29dc91df14fe"
      },
      "execution_count": null,
      "outputs": [
        {
          "output_type": "stream",
          "name": "stdout",
          "text": [
            "Median Income: 60000\n"
          ]
        }
      ]
    },
    {
      "cell_type": "markdown",
      "source": [
        "\n",
        "11.Determine the mode of the grades received by students: A, B, A, C, B, A, B.\n",
        "\n"
      ],
      "metadata": {
        "id": "netCWDi_69zK"
      }
    },
    {
      "cell_type": "code",
      "source": [
        "# Define the dataset\n",
        "grades = ['A', 'B', 'A', 'C', 'B', 'A', 'B']\n",
        "\n",
        "# Calculate the mode\n",
        "mode = statistics.mode(grades)\n",
        "\n",
        "# Print the result\n",
        "print(\"Mode:\", mode)"
      ],
      "metadata": {
        "colab": {
          "base_uri": "https://localhost:8080/"
        },
        "id": "-tXoHCg766kW",
        "outputId": "ea3cf20f-93e4-4c07-eeba-018f1c399232"
      },
      "execution_count": null,
      "outputs": [
        {
          "output_type": "stream",
          "name": "stdout",
          "text": [
            "Mode: A\n"
          ]
        }
      ]
    },
    {
      "cell_type": "markdown",
      "source": [
        "12.Find the mean weight of fruits in a basket if their weights are 150g, 180g, 200g, 170g, and 160g.\n"
      ],
      "metadata": {
        "id": "jo9va40-7KPc"
      }
    },
    {
      "cell_type": "code",
      "source": [
        "# Define the dataset\n",
        "weights = [150, 180, 200, 170, 160]\n",
        "\n",
        "# Calculate the mean weight\n",
        "mean_weight = statistics.mean(weights)\n",
        "\n",
        "# Print the result\n",
        "print(\"Mean Weight:\", mean_weight)"
      ],
      "metadata": {
        "colab": {
          "base_uri": "https://localhost:8080/"
        },
        "id": "_9ru7Mec7HI4",
        "outputId": "a82a8d92-35ce-4193-8555-c3ec50e35581"
      },
      "execution_count": null,
      "outputs": [
        {
          "output_type": "stream",
          "name": "stdout",
          "text": [
            "Mean Weight: 172\n"
          ]
        }
      ]
    },
    {
      "cell_type": "markdown",
      "source": [
        "13.Calculate the median time taken to complete a race by runners: 30 minutes, 28 minutes, 35 minutes, 25 minutes, 32 minutes.\n",
        "\n"
      ],
      "metadata": {
        "id": "CX3ltNnN7TUr"
      }
    },
    {
      "cell_type": "code",
      "source": [
        "# Define the dataset\n",
        "times = [30, 28, 35, 25, 32]\n",
        "\n",
        "# Calculate the median time\n",
        "median_time = statistics.median(times)\n",
        "\n",
        "# Print the result\n",
        "print(\"Median Time:\", median_time)"
      ],
      "metadata": {
        "colab": {
          "base_uri": "https://localhost:8080/"
        },
        "id": "okN1sIAw7Pwt",
        "outputId": "aaf4aa61-f9bb-4f37-c5ce-e592c88760c3"
      },
      "execution_count": null,
      "outputs": [
        {
          "output_type": "stream",
          "name": "stdout",
          "text": [
            "Median Time: 30\n"
          ]
        }
      ]
    },
    {
      "cell_type": "markdown",
      "source": [
        "14.Determine the mode of the following data set: 14, 18, 14, 20, 22, 18, 14.\n"
      ],
      "metadata": {
        "id": "HwlEJnnw7dOU"
      }
    },
    {
      "cell_type": "code",
      "source": [
        "# Define the dataset\n",
        "data = [14, 18, 14, 20, 22, 18, 14]\n",
        "\n",
        "# Calculate the mode\n",
        "mode = statistics.mode(data)\n",
        "\n",
        "# Print the result\n",
        "print(\"Mode:\", mode)"
      ],
      "metadata": {
        "colab": {
          "base_uri": "https://localhost:8080/"
        },
        "id": "_3NZ7jEC7ZEB",
        "outputId": "d1826049-2144-428b-da71-9241116f5c10"
      },
      "execution_count": null,
      "outputs": [
        {
          "output_type": "stream",
          "name": "stdout",
          "text": [
            "Mode: 14\n"
          ]
        }
      ]
    },
    {
      "cell_type": "markdown",
      "source": [
        "15.Find the mean number of customers visiting a store each day if the numbers for the week are: 50, 60, 55, 70, 65, 80, 75.\n"
      ],
      "metadata": {
        "id": "v90QQzAq7jg8"
      }
    },
    {
      "cell_type": "code",
      "source": [
        "# Define the dataset\n",
        "data = [50, 60, 55, 70, 65, 80, 75]\n",
        "\n",
        "# Calculate the mean\n",
        "mean = statistics.mean(data)\n",
        "\n",
        "# Print the result\n",
        "print(\"Mean:\", mean)"
      ],
      "metadata": {
        "colab": {
          "base_uri": "https://localhost:8080/"
        },
        "id": "M4jnvgIP7gqH",
        "outputId": "10828696-27ad-4b94-8dc9-c028ecd70802"
      },
      "execution_count": null,
      "outputs": [
        {
          "output_type": "stream",
          "name": "stdout",
          "text": [
            "Mean: 65\n"
          ]
        }
      ]
    },
    {
      "cell_type": "markdown",
      "source": [
        "16.Calculate the median distance run by athletes: 5 km, 8 km, 6 km, 10 km, 7 km, 9 km.\n"
      ],
      "metadata": {
        "id": "xNGL_iqT77l_"
      }
    },
    {
      "cell_type": "code",
      "source": [
        "# Define the dataset\n",
        "data = [5, 8, 6, 10, 7, 9]\n",
        "\n",
        "# Calculate the median\n",
        "median = statistics.median(data)\n",
        "\n",
        "# Print the result\n",
        "print(\"Median:\", median)"
      ],
      "metadata": {
        "colab": {
          "base_uri": "https://localhost:8080/"
        },
        "id": "gNSqTDzG7us8",
        "outputId": "8169c28a-177b-4fda-9d95-ac89677b5f5f"
      },
      "execution_count": null,
      "outputs": [
        {
          "output_type": "stream",
          "name": "stdout",
          "text": [
            "Median: 7.5\n"
          ]
        }
      ]
    },
    {
      "cell_type": "markdown",
      "source": [
        "17.Determine the mode of the following sequence of test scores: 90, 85, 90, 95, 90, 88.\n"
      ],
      "metadata": {
        "id": "1-efTOS-8Czq"
      }
    },
    {
      "cell_type": "code",
      "source": [
        "# Define the dataset\n",
        "data = [90, 85, 90, 95, 90, 88]\n",
        "\n",
        "# Calculate the mode\n",
        "mode = statistics.mode(data)\n",
        "\n",
        "# Print the result\n",
        "print(\"Mode:\", mode)"
      ],
      "metadata": {
        "colab": {
          "base_uri": "https://localhost:8080/"
        },
        "id": "h5luBCtb8ALt",
        "outputId": "0752dfcf-affb-4ced-b984-d4df06039e90"
      },
      "execution_count": null,
      "outputs": [
        {
          "output_type": "stream",
          "name": "stdout",
          "text": [
            "Mode: 90\n"
          ]
        }
      ]
    },
    {
      "cell_type": "markdown",
      "source": [
        "18.Find the mean price of items in a grocery store if their prices are $2.50, $3.00, $1.75, $2.25, and $2.00.\n"
      ],
      "metadata": {
        "id": "AOnxBS0s8LEd"
      }
    },
    {
      "cell_type": "code",
      "source": [
        "# Define the dataset\n",
        "data = [2.5, 3.0, 1.75, 2.25, 2.0]\n",
        "\n",
        "# Calculate the mean\n",
        "mean = statistics.mean(data)\n",
        "\n",
        "# Print the result\n",
        "print(\"Mean:\", mean)"
      ],
      "metadata": {
        "colab": {
          "base_uri": "https://localhost:8080/"
        },
        "id": "9Ydww3PU8IC5",
        "outputId": "af96ac78-b822-4e27-f26c-159582d5661a"
      },
      "execution_count": null,
      "outputs": [
        {
          "output_type": "stream",
          "name": "stdout",
          "text": [
            "Mean: 2.3\n"
          ]
        }
      ]
    },
    {
      "cell_type": "markdown",
      "source": [
        "19.Calculate the median number of pets owned by families in a neighborhood: 1, 2, 3, 1, 4, 2, 1.\n"
      ],
      "metadata": {
        "id": "iZud3YPo8WOZ"
      }
    },
    {
      "cell_type": "code",
      "source": [
        "# Define the dataset\n",
        "data = [1, 2, 3, 1, 4, 2, 1]\n",
        "\n",
        "# Calculate the median\n",
        "median = statistics.median(data)\n",
        "\n",
        "# Print the result\n",
        "print(\"Median:\", median)"
      ],
      "metadata": {
        "colab": {
          "base_uri": "https://localhost:8080/"
        },
        "id": "tMY8s-BP8TBN",
        "outputId": "069a6572-7a40-415d-8029-2467ab66eddb"
      },
      "execution_count": null,
      "outputs": [
        {
          "output_type": "stream",
          "name": "stdout",
          "text": [
            "Median: 2\n"
          ]
        }
      ]
    },
    {
      "cell_type": "markdown",
      "source": [
        "20.Determine the mode of the following shoe sizes: 8, 9, 10, 8, 11, 9, 8.\n"
      ],
      "metadata": {
        "id": "oQJn6tBy8idh"
      }
    },
    {
      "cell_type": "code",
      "source": [
        "# Define the dataset\n",
        "data = [8, 9, 10, 8, 11, 9, 8]\n",
        "\n",
        "# Calculate the mode\n",
        "mode = statistics.mode(data)\n",
        "\n",
        "# Print the result\n",
        "print(\"Mode:\", mode)"
      ],
      "metadata": {
        "colab": {
          "base_uri": "https://localhost:8080/"
        },
        "id": "UkwK35gm8aJN",
        "outputId": "618a911a-aa2e-4dbb-f8df-8cc3cf736bcc"
      },
      "execution_count": null,
      "outputs": [
        {
          "output_type": "stream",
          "name": "stdout",
          "text": [
            "Mode: 8\n"
          ]
        }
      ]
    },
    {
      "cell_type": "code",
      "source": [],
      "metadata": {
        "id": "0LoP2kjj8p29"
      },
      "execution_count": null,
      "outputs": []
    }
  ]
}