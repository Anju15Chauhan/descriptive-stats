{
  "nbformat": 4,
  "nbformat_minor": 0,
  "metadata": {
    "colab": {
      "provenance": [],
      "authorship_tag": "ABX9TyOBlXZ4mUtDFEiOE6j5xsJu",
      "include_colab_link": true
    },
    "kernelspec": {
      "name": "python3",
      "display_name": "Python 3"
    },
    "language_info": {
      "name": "python"
    }
  },
  "cells": [
    {
      "cell_type": "markdown",
      "metadata": {
        "id": "view-in-github",
        "colab_type": "text"
      },
      "source": [
        "<a href=\"https://colab.research.google.com/github/Anju15Chauhan/descriptive-stats/blob/main/descriptive_statsAnju.ipynb\" target=\"_parent\"><img src=\"https://colab.research.google.com/assets/colab-badge.svg\" alt=\"Open In Colab\"/></a>"
      ]
    },
    {
      "cell_type": "markdown",
      "source": [
        "#Descriptive Statistics\n",
        " • Descriptive statistics involves summarizing and describing\n",
        "the characteristics of a dataset, such as the mean, median,\n",
        "mode,and standarddeviation.\n",
        "\n",
        " • It deals with the presentation and collection of data.\n",
        "\n",
        " • Differentareas of study require differentkinds of analysis\n",
        "using descriptive statistics.\n",
        "\n",
        " • The statistician needs to be awareof designing\n",
        "experiments.\n"
      ],
      "metadata": {
        "id": "GjwXdSu50fDN"
      }
    },
    {
      "cell_type": "markdown",
      "source": [
        "1. What is the mean, median, and mode of the ages of employees in a company?\n"
      ],
      "metadata": {
        "id": "jeFE6TiA3_dJ"
      }
    },
    {
      "source": [
        "import statistics\n",
        "ages = [25, 30, 35, 40, 25]\n",
        "\n",
        "\n",
        "mean = statistics.mean(ages)\n",
        "median = statistics.median(ages)\n",
        "mode = statistics.mode(ages)\n",
        "\n",
        "print(\"Mean:\", mean)\n",
        "print(\"Median:\", median)\n",
        "print(\"Mode:\", mode)"
      ],
      "cell_type": "code",
      "metadata": {
        "colab": {
          "base_uri": "https://localhost:8080/"
        },
        "id": "YRCPWSoj4QfU",
        "outputId": "0cd7c1ff-a875-40d6-e461-b3e0ae3a0933"
      },
      "execution_count": null,
      "outputs": [
        {
          "output_type": "stream",
          "name": "stdout",
          "text": [
            "Mean: 31\n",
            "Median: 30\n",
            "Mode: 25\n"
          ]
        }
      ]
    },
    {
      "cell_type": "markdown",
      "source": [
        "2. Calculate the range, interquartile range (IQR), and standard deviation of the monthly salaries of a sample of workers.\n"
      ],
      "metadata": {
        "id": "hCSWLEPD40DK"
      }
    },
    {
      "cell_type": "code",
      "source": [
        "import statistics\n",
        "import math\n",
        "import numpy as np\n",
        "import scipy.stats as stats\n",
        "\n",
        "salaries = [5000, 6000, 7000, 8000, 9000]\n",
        "\n",
        "range_value = max(salaries) - min(salaries)\n",
        "print(\"Range:\", range_value)\n",
        "\n",
        "q1, q3 = np.percentile(salaries, [25, 75])\n",
        "iqr = q3 - q1\n",
        "print(\"IQR:\", iqr)\n",
        "\n",
        "std_dev = statistics.stdev(salaries)\n",
        "print(\"Standard Deviation:\", std_dev)\n",
        "\n",
        "median = statistics.median(salaries)\n",
        "print(\"Median:\", median)\n",
        "\n",
        "mode = statistics.mode(salaries)\n",
        "print(\"Mode:\", mode)\n",
        "interquartile_range = stats.iqr(salaries)\n",
        "print(\"Interquartile Range:\", iqr)\n"
      ],
      "metadata": {
        "colab": {
          "base_uri": "https://localhost:8080/"
        },
        "id": "H_uqM2TI4xk-",
        "outputId": "75873e7f-767d-4551-851a-b64ebbc9f678"
      },
      "execution_count": null,
      "outputs": [
        {
          "output_type": "stream",
          "name": "stdout",
          "text": [
            "Range: 4000\n",
            "IQR: 2000.0\n",
            "Standard Deviation: 1581.1388300841897\n",
            "Median: 7000\n",
            "Mode: 5000\n",
            "Interquartile Range: 2000.0\n"
          ]
        }
      ]
    },
    {
      "cell_type": "markdown",
      "source": [
        "3. Determine the variance and coefficient of variation for the heights of students in a class."
      ],
      "metadata": {
        "id": "KmYk1wdg6Axe"
      }
    },
    {
      "cell_type": "code",
      "source": [
        "import statistics\n",
        "import math\n",
        "import numpy as np\n",
        "import pandas as pd\n",
        "import scipy.stats as stats\n",
        "\n",
        "heights_of_students = 178, 177, 172, 171, 168, 168, 169, 170\n",
        "\n",
        "variance = statistics.variance(heights_of_students)\n",
        "print(\"Variance:\", variance)\n",
        "\n",
        "coefficient_of_variation = statistics.stdev(heights_of_students) / statistics.mean(heights_of_students)\n",
        "print(\"Coefficient of Variation:\", coefficient_of_variation)\n"
      ],
      "metadata": {
        "colab": {
          "base_uri": "https://localhost:8080/"
        },
        "id": "RZAQTGI152KU",
        "outputId": "34ccf584-84dd-4cee-f3d5-4b734df85173"
      },
      "execution_count": null,
      "outputs": [
        {
          "output_type": "stream",
          "name": "stdout",
          "text": [
            "Variance: 15.125\n",
            "Coefficient of Variation: 0.02266037754712898\n"
          ]
        }
      ]
    },
    {
      "cell_type": "markdown",
      "source": [
        "4. What are the quartiles and percentiles of the exam scores of students in a university?\n"
      ],
      "metadata": {
        "id": "ipKyU3GQ6y2h"
      }
    },
    {
      "cell_type": "code",
      "source": [
        "import statistics\n",
        "import numpy as np\n",
        "import scipy.stats as stats\n",
        "\n",
        "scores = [75, 80, 85, 90, 95]\n",
        "\n",
        "quartiles = np.percentile(scores, [25, 50, 75])\n",
        "print(\"Quartiles:\", quartiles)\n",
        "\n",
        "percentiles = np.percentile(scores, [0, 25, 50, 75, 100])\n",
        "print(\"Percentiles:\", percentiles)"
      ],
      "metadata": {
        "colab": {
          "base_uri": "https://localhost:8080/"
        },
        "id": "Zsz87z666YSs",
        "outputId": "d53f2010-4d36-4357-b5f7-ef0d4c8fc87c"
      },
      "execution_count": null,
      "outputs": [
        {
          "output_type": "stream",
          "name": "stdout",
          "text": [
            "Quartiles: [80. 85. 90.]\n",
            "Percentiles: [75. 80. 85. 90. 95.]\n"
          ]
        }
      ]
    },
    {
      "cell_type": "markdown",
      "source": [
        "5. Create a histogram to display the distribution of test scores for a group of students.\n",
        "\n"
      ],
      "metadata": {
        "id": "i8kN051z7LWT"
      }
    },
    {
      "cell_type": "code",
      "source": [
        "import statistics\n",
        "import scipy.stats as stats\n",
        "import numpy as np\n",
        "import matplotlib.pyplot as plt\n",
        "\n",
        "test_scores = [75, 80, 85, 90, 95]\n",
        "\n",
        "plt.hist(test_scores, bins=10, edgecolor='black')\n",
        "plt.xlabel('Test Scores')\n",
        "plt.ylabel('Frequency')\n",
        "plt.title('Distribution of Test Scores')\n",
        "plt.show()\n",
        "\n",
        "print(\"Skewness:\", stats.skew(test_scores))\n",
        "print(\"Kurtosis:\", stats.kurtosis(test_scores))\n",
        "\n",
        "print(\"Mean:\", statistics.mean(test_scores))\n",
        "print(\"Median:\", statistics.median(test_scores))\n",
        "print(\"Mode:\", statistics.mode(test_scores))\n",
        "print(\"Standard Deviation:\", statistics.stdev(test_scores))\n",
        "print(\"Variance:\", statistics.variance(test_scores))\n",
        "print(\"Range:\", max(test_scores) - min(test_scores))\n",
        "print(\"Interquartile Range:\", stats.iqr(test_scores))\n",
        "\n",
        "print(\"Boxplot:\")\n",
        "plt.boxplot(test_scores)\n",
        "plt.show"
      ],
      "metadata": {
        "colab": {
          "base_uri": "https://localhost:8080/",
          "height": 1000
        },
        "id": "4KE9bjan7Gow",
        "outputId": "eb2fc682-d784-4fe0-dc42-0761fa02ef73"
      },
      "execution_count": null,
      "outputs": [
        {
          "output_type": "display_data",
          "data": {
            "text/plain": [
              "<Figure size 640x480 with 1 Axes>"
            ],
            "image/png": "[encoded data removed]"
          },
          "metadata": {}
        },
        {
          "output_type": "stream",
          "name": "stdout",
          "text": [
            "Skewness: 0.0\n",
            "Kurtosis: -1.3\n",
            "Mean: 85\n",
            "Median: 85\n",
            "Mode: 75\n",
            "Standard Deviation: 7.905694150420948\n",
            "Variance: 62.5\n",
            "Range: 20\n",
            "Interquartile Range: 10.0\n",
            "Boxplot:\n"
          ]
        },
        {
          "output_type": "execute_result",
          "data": {
            "text/plain": [
              "<function matplotlib.pyplot.show(close=None, block=None)>"
            ],
            "text/html": [
              "<div style=\"max-width:800px; border: 1px solid var(--colab-border-color);\"><style>\n",
              "      pre.function-repr-contents {\n",
              "        overflow-x: auto;\n",
              "        padding: 8px 12px;\n",
              "        max-height: 500px;\n",
              "      }\n",
              "\n",
              "      pre.function-repr-contents.function-repr-contents-collapsed {\n",
              "        cursor: pointer;\n",
              "        max-height: 100px;\n",
              "      }\n",
              "    </style>\n",
              "    <pre style=\"white-space: initial; background:\n",
              "         var(--colab-secondary-surface-color); padding: 8px 12px;\n",
              "         border-bottom: 1px solid var(--colab-border-color);\"><b>matplotlib.pyplot.show</b><br/>def show(*args, **kwargs)</pre><pre class=\"function-repr-contents function-repr-contents-collapsed\" style=\"\"><a class=\"filepath\" style=\"display:none\" href=\"#\">/usr/local/lib/python3.10/dist-packages/matplotlib/pyplot.py</a>Display all open figures.\n",
              "\n",
              "Parameters\n",
              "----------\n",
              "block : bool, optional\n",
              "    Whether to wait for all figures to be closed before returning.\n",
              "\n",
              "    If `True` block and run the GUI main loop until all figure windows\n",
              "    are closed.\n",
              "\n",
              "    If `False` ensure that all figure windows are displayed and return\n",
              "    immediately.  In this case, you are responsible for ensuring\n",
              "    that the event loop is running to have responsive figures.\n",
              "\n",
              "    Defaults to True in non-interactive mode and to False in interactive\n",
              "    mode (see `.pyplot.isinteractive`).\n",
              "\n",
              "See Also\n",
              "--------\n",
              "ion : Enable interactive mode, which shows / updates the figure after\n",
              "      every plotting command, so that calling ``show()`` is not necessary.\n",
              "ioff : Disable interactive mode.\n",
              "savefig : Save the figure to an image file instead of showing it on screen.\n",
              "\n",
              "Notes\n",
              "-----\n",
              "**Saving figures to file and showing a window at the same time**\n",
              "\n",
              "If you want an image file as well as a user interface window, use\n",
              "`.pyplot.savefig` before `.pyplot.show`. At the end of (a blocking)\n",
              "``show()`` the figure is closed and thus unregistered from pyplot. Calling\n",
              "`.pyplot.savefig` afterwards would save a new and thus empty figure. This\n",
              "limitation of command order does not apply if the show is non-blocking or\n",
              "if you keep a reference to the figure and use `.Figure.savefig`.\n",
              "\n",
              "**Auto-show in jupyter notebooks**\n",
              "\n",
              "The jupyter backends (activated via ``%matplotlib inline``,\n",
              "``%matplotlib notebook``, or ``%matplotlib widget``), call ``show()`` at\n",
              "the end of every cell by default. Thus, you usually don&#x27;t have to call it\n",
              "explicitly there.</pre>\n",
              "      <script>\n",
              "      if (google.colab.kernel.accessAllowed && google.colab.files && google.colab.files.view) {\n",
              "        for (const element of document.querySelectorAll('.filepath')) {\n",
              "          element.style.display = 'block'\n",
              "          element.onclick = (event) => {\n",
              "            event.preventDefault();\n",
              "            event.stopPropagation();\n",
              "            google.colab.files.view(element.textContent, 401);\n",
              "          };\n",
              "        }\n",
              "      }\n",
              "      for (const element of document.querySelectorAll('.function-repr-contents')) {\n",
              "        element.onclick = (event) => {\n",
              "          event.preventDefault();\n",
              "          event.stopPropagation();\n",
              "          element.classList.toggle('function-repr-contents-collapsed');\n",
              "        };\n",
              "      }\n",
              "      </script>\n",
              "      </div>"
            ]
          },
          "metadata": {},
          "execution_count": 11
        },
        {
          "output_type": "display_data",
          "data": {
            "text/plain": [
              "<Figure size 640x480 with 1 Axes>"
            ],
            "image/png": "[encoded data removed]"
          },
          "metadata": {}
        }
      ]
    },
    {
      "cell_type": "markdown",
      "source": [
        "6. Construct a box plot to summarize the data on weekly working hours of employees in a department.\n"
      ],
      "metadata": {
        "id": "wmN9D0vc8DbZ"
      }
    },
    {
      "cell_type": "code",
      "source": [
        "import statistics\n",
        "import numpy as np\n",
        "import scipy.stats as stats\n",
        "import pandas as pd\n",
        "import matplotlib.pyplot as plt\n",
        "\n",
        "working_hours = [40, 45, 50, 55, 60]\n",
        "\n",
        "plt.boxplot(working_hours)\n",
        "plt.xlabel('Working Hours')\n",
        "plt.title('Box Plot of Working Hours')\n",
        "plt.show()\n",
        "\n",
        "print('mean',statistics.mean(working_hours))\n",
        "print('median',statistics.median(working_hours))\n",
        "print('mode',statistics.mode(working_hours))"
      ],
      "metadata": {
        "colab": {
          "base_uri": "https://localhost:8080/",
          "height": 524
        },
        "id": "qbB_Arp67oB_",
        "outputId": "42e59189-5fed-4303-f364-a7d9e7aad1cd"
      },
      "execution_count": null,
      "outputs": [
        {
          "output_type": "display_data",
          "data": {
            "text/plain": [
              "<Figure size 640x480 with 1 Axes>"
            ],
            "image/png": "[encoded data removed]"
          },
          "metadata": {}
        },
        {
          "output_type": "stream",
          "name": "stdout",
          "text": [
            "mean 50\n",
            "median 50\n",
            "mode 40\n"
          ]
        }
      ]
    },
    {
      "cell_type": "markdown",
      "source": [
        "7. Calculate the mean and standard deviation of the weights of a sample of fruits in a market.\n",
        "\n"
      ],
      "metadata": {
        "id": "04sPTCot8ra3"
      }
    },
    {
      "cell_type": "code",
      "source": [
        "import statistics\n",
        "import numpy as np\n",
        "import scipy.stats as stats\n",
        "\n",
        "weights = [100, 105, 110, 115, 120]\n",
        "\n",
        "mean = statistics.mean(weights)\n",
        "standard_deviation = statistics.stdev(weights)\n",
        "\n",
        "print(\"Mean:\", mean)\n",
        "print(\"Standard Deviation:\", standard_deviation)"
      ],
      "metadata": {
        "colab": {
          "base_uri": "https://localhost:8080/"
        },
        "id": "HdSql8It8Sdw",
        "outputId": "a1c058a8-ce71-408d-9cf6-946566159db5"
      },
      "execution_count": null,
      "outputs": [
        {
          "output_type": "stream",
          "name": "stdout",
          "text": [
            "Mean: 110\n",
            "Standard Deviation: 7.905694150420948\n"
          ]
        }
      ]
    },
    {
      "cell_type": "markdown",
      "source": [
        "8. Determine the skewness and kurtosis of the annual incomes of residents in a city.\n",
        "\n",
        "\n"
      ],
      "metadata": {
        "id": "QyeAERk785gc"
      }
    },
    {
      "cell_type": "code",
      "source": [
        "import statistics\n",
        "import numpy as np\n",
        "import scipy.stats as stats\n",
        "import matplotlib.pyplot as plt\n",
        "\n",
        "\n",
        "annual_incomes = [50000, 60000, 70000, 80000, 90000]\n",
        "\n",
        "print(\"Skewness:\", stats.skew(annual_incomes))\n",
        "print(\"Kurtosis:\", stats.kurtosis(annual_incomes))\n",
        "\n",
        "plt.hist(annual_incomes, bins=10, edgecolor='black')\n",
        "plt.xlabel('Annual Income')\n",
        "plt.ylabel('Frequency')\n",
        "plt.title('Distribution of Annual Income')\n",
        "plt.show()\n",
        "\n",
        "print(\"Median:\", statistics.median(annual_incomes))\n",
        "print(\"Mode:\", statistics.mode(annual_incomes))\n",
        "print(\"Mean:\", statistics.mean(annual_incomes))\n",
        "print(\"Standard Deviation:\", statistics.stdev(annual_incomes))"
      ],
      "metadata": {
        "colab": {
          "base_uri": "https://localhost:8080/",
          "height": 576
        },
        "id": "tbUx0n7H80p7",
        "outputId": "fc43242a-b699-4166-f062-d7c7dbead1d0"
      },
      "execution_count": null,
      "outputs": [
        {
          "output_type": "stream",
          "name": "stdout",
          "text": [
            "Skewness: 0.0\n",
            "Kurtosis: -1.3\n"
          ]
        },
        {
          "output_type": "display_data",
          "data": {
            "text/plain": [
              "<Figure size 640x480 with 1 Axes>"
            ],
            "image/png": "[encoded data removed]"
          },
          "metadata": {}
        },
        {
          "output_type": "stream",
          "name": "stdout",
          "text": [
            "Median: 70000\n",
            "Mode: 50000\n",
            "Mean: 70000\n",
            "Standard Deviation: 15811.388300841896\n"
          ]
        }
      ]
    },
    {
      "cell_type": "markdown",
      "source": [
        "9. Find the frequency distribution and cumulative frequency distribution of the number of books read by individuals in a year.\n",
        "\n"
      ],
      "metadata": {
        "id": "3M62Fv4Q9aKu"
      }
    },
    {
      "cell_type": "code",
      "source": [
        "import statistics\n",
        "import numpy as np\n",
        "import scipy.stats as stats\n",
        "import matplotlib.pyplot as plt\n",
        "\n",
        "frequency_distribution = [10, 15, 20, 25, 30]\n",
        "cumulative_distribution = np.cumsum(frequency_distribution)\n",
        "\n",
        "print(\"Frequency Distribution:\", frequency_distribution)\n",
        "print(\"Cumulative Distribution:\", cumulative_distribution)\n",
        "\n",
        "# Plot the frequency distribution\n",
        "plt.bar(range(len(frequency_distribution)), frequency_distribution)\n",
        "plt.xlabel('Values')\n",
        "plt.ylabel('Frequency')\n",
        "plt.title('Frequency Distribution')\n",
        "plt.show\n",
        "\n",
        "# Plot the cumulative distribution\n",
        "plt.plot(range(len(cumulative_distribution)), cumulative_distribution)\n",
        "plt.xlabel('Values')\n",
        "plt.ylabel('Cumulative Distribution')\n",
        "plt.title('Cumulative Distribution')\n",
        "plt.show"
      ],
      "metadata": {
        "colab": {
          "base_uri": "https://localhost:8080/",
          "height": 676
        },
        "id": "1YhEMMRn9EOe",
        "outputId": "798c150d-f799-437e-d5c6-26a6dcd3a297"
      },
      "execution_count": null,
      "outputs": [
        {
          "output_type": "stream",
          "name": "stdout",
          "text": [
            "Frequency Distribution: [10, 15, 20, 25, 30]\n",
            "Cumulative Distribution: [ 10  25  45  70 100]\n"
          ]
        },
        {
          "output_type": "execute_result",
          "data": {
            "text/plain": [
              "<function matplotlib.pyplot.show(close=None, block=None)>"
            ],
            "text/html": [
              "<div style=\"max-width:800px; border: 1px solid var(--colab-border-color);\"><style>\n",
              "      pre.function-repr-contents {\n",
              "        overflow-x: auto;\n",
              "        padding: 8px 12px;\n",
              "        max-height: 500px;\n",
              "      }\n",
              "\n",
              "      pre.function-repr-contents.function-repr-contents-collapsed {\n",
              "        cursor: pointer;\n",
              "        max-height: 100px;\n",
              "      }\n",
              "    </style>\n",
              "    <pre style=\"white-space: initial; background:\n",
              "         var(--colab-secondary-surface-color); padding: 8px 12px;\n",
              "         border-bottom: 1px solid var(--colab-border-color);\"><b>matplotlib.pyplot.show</b><br/>def show(*args, **kwargs)</pre><pre class=\"function-repr-contents function-repr-contents-collapsed\" style=\"\"><a class=\"filepath\" style=\"display:none\" href=\"#\">/usr/local/lib/python3.10/dist-packages/matplotlib/pyplot.py</a>Display all open figures.\n",
              "\n",
              "Parameters\n",
              "----------\n",
              "block : bool, optional\n",
              "    Whether to wait for all figures to be closed before returning.\n",
              "\n",
              "    If `True` block and run the GUI main loop until all figure windows\n",
              "    are closed.\n",
              "\n",
              "    If `False` ensure that all figure windows are displayed and return\n",
              "    immediately.  In this case, you are responsible for ensuring\n",
              "    that the event loop is running to have responsive figures.\n",
              "\n",
              "    Defaults to True in non-interactive mode and to False in interactive\n",
              "    mode (see `.pyplot.isinteractive`).\n",
              "\n",
              "See Also\n",
              "--------\n",
              "ion : Enable interactive mode, which shows / updates the figure after\n",
              "      every plotting command, so that calling ``show()`` is not necessary.\n",
              "ioff : Disable interactive mode.\n",
              "savefig : Save the figure to an image file instead of showing it on screen.\n",
              "\n",
              "Notes\n",
              "-----\n",
              "**Saving figures to file and showing a window at the same time**\n",
              "\n",
              "If you want an image file as well as a user interface window, use\n",
              "`.pyplot.savefig` before `.pyplot.show`. At the end of (a blocking)\n",
              "``show()`` the figure is closed and thus unregistered from pyplot. Calling\n",
              "`.pyplot.savefig` afterwards would save a new and thus empty figure. This\n",
              "limitation of command order does not apply if the show is non-blocking or\n",
              "if you keep a reference to the figure and use `.Figure.savefig`.\n",
              "\n",
              "**Auto-show in jupyter notebooks**\n",
              "\n",
              "The jupyter backends (activated via ``%matplotlib inline``,\n",
              "``%matplotlib notebook``, or ``%matplotlib widget``), call ``show()`` at\n",
              "the end of every cell by default. Thus, you usually don&#x27;t have to call it\n",
              "explicitly there.</pre>\n",
              "      <script>\n",
              "      if (google.colab.kernel.accessAllowed && google.colab.files && google.colab.files.view) {\n",
              "        for (const element of document.querySelectorAll('.filepath')) {\n",
              "          element.style.display = 'block'\n",
              "          element.onclick = (event) => {\n",
              "            event.preventDefault();\n",
              "            event.stopPropagation();\n",
              "            google.colab.files.view(element.textContent, 401);\n",
              "          };\n",
              "        }\n",
              "      }\n",
              "      for (const element of document.querySelectorAll('.function-repr-contents')) {\n",
              "        element.onclick = (event) => {\n",
              "          event.preventDefault();\n",
              "          event.stopPropagation();\n",
              "          element.classList.toggle('function-repr-contents-collapsed');\n",
              "        };\n",
              "      }\n",
              "      </script>\n",
              "      </div>"
            ]
          },
          "metadata": {},
          "execution_count": 18
        },
        {
          "output_type": "display_data",
          "data": {
            "text/plain": [
              "<Figure size 640x480 with 1 Axes>"
            ],
            "image/png": "[encoded data removed]"
          },
          "metadata": {}
        }
      ]
    },
    {
      "cell_type": "markdown",
      "source": [
        "10. Compute the mean, median, and mode of the daily sales of a retail store for the past month.\n"
      ],
      "metadata": {
        "id": "u-DHizUx-BbI"
      }
    },
    {
      "cell_type": "code",
      "source": [
        "import statistics\n",
        "import numpy as np\n",
        "import scipy.stats as stats\n",
        "\n",
        "daily_sales = [100, 120, 110, 130, 105]\n",
        "\n",
        "mean = statistics.mean(daily_sales)\n",
        "median = statistics.median(daily_sales)\n",
        "mode = statistics.mode(daily_sales)\n",
        "\n",
        "print(\"Mean:\", mean)\n",
        "print(\"Median:\", median)\n",
        "print(\"Mode:\", mode)\n"
      ],
      "metadata": {
        "colab": {
          "base_uri": "https://localhost:8080/"
        },
        "id": "fevxgIeD9t4H",
        "outputId": "59040aaa-2de7-4a7d-ad32-5ac3567b70fa"
      },
      "execution_count": null,
      "outputs": [
        {
          "output_type": "stream",
          "name": "stdout",
          "text": [
            "Mean: 113\n",
            "Median: 110\n",
            "Mode: 100\n"
          ]
        }
      ]
    },
    {
      "cell_type": "markdown",
      "source": [
        "11. Analyze the dispersion and central tendency of the ages of patients visiting a clinic.\n"
      ],
      "metadata": {
        "id": "zsQoLAV0-jx7"
      }
    },
    {
      "cell_type": "code",
      "source": [
        "import statistics\n",
        "import numpy as np\n",
        "import scipy.stats as stats\n",
        "\n",
        "ages = [25, 30, 35, 40, 45]\n",
        "\n",
        "dispersion = np.var(ages)\n",
        "central_tendency = np.mean(ages)\n",
        "\n",
        "print(\"Dispersion:\", dispersion)\n",
        "print(\"Central Tendency:\", central_tendency)"
      ],
      "metadata": {
        "colab": {
          "base_uri": "https://localhost:8080/"
        },
        "id": "cuK0fvxj-TNO",
        "outputId": "2957e4b5-1404-4eb3-def6-339286c2db0d"
      },
      "execution_count": null,
      "outputs": [
        {
          "output_type": "stream",
          "name": "stdout",
          "text": [
            "Dispersion: 50.0\n",
            "Central Tendency: 35.0\n"
          ]
        }
      ]
    },
    {
      "cell_type": "markdown",
      "source": [
        "12. Calculate the coefficient of correlation between the years of education and annual income of individuals.\n",
        "\n"
      ],
      "metadata": {
        "id": "mXgNIJn7_E3K"
      }
    },
    {
      "cell_type": "code",
      "source": [
        "import statistics\n",
        "import numpy as np\n",
        "import pandas as pd\n",
        "import scipy.stats as stats\n",
        "\n",
        "years_of_education = [10, 15, 20, 25, 30]\n",
        "annual_income = [50000, 60000, 70000, 80000, 90000]\n",
        "\n",
        "correlation_coefficient = np.corrcoef(years_of_education, annual_income)[0, 1]\n",
        "\n",
        "print(\"Correlation Coefficient:\", correlation_coefficient)"
      ],
      "metadata": {
        "colab": {
          "base_uri": "https://localhost:8080/"
        },
        "id": "J9C9M-DS-szA",
        "outputId": "23ee8e21-9e91-4388-ad9e-14255902e5b7"
      },
      "execution_count": null,
      "outputs": [
        {
          "output_type": "stream",
          "name": "stdout",
          "text": [
            "Correlation Coefficient: 1.0\n"
          ]
        }
      ]
    },
    {
      "cell_type": "markdown",
      "source": [
        "13. Generate a scatter plot to visualize the relationship between the number of study hours and exam scores of students.\n",
        "\n"
      ],
      "metadata": {
        "id": "gutK9xfa_9AE"
      }
    },
    {
      "cell_type": "code",
      "source": [
        "import statistics\n",
        "import numpy as np\n",
        "import pandas as pd\n",
        "import scipy.stats as stats\n",
        "import matplotlib.pyplot as plt\n",
        "\n",
        "num_of_study_hours = [2, 3, 4, 5, 6]\n",
        "exam_scores = [60, 70, 80, 90, 100]\n",
        "\n",
        "plt.scatter(num_of_study_hours, exam_scores)\n",
        "\n",
        "plt.axhline(np.mean(exam_scores), color='r', linestyle='--')\n",
        "plt.axvline(np.mean(num_of_study_hours), color='r', linestyle='--')\n",
        "\n",
        "plt.axhline(np.median(exam_scores), color='g', linestyle='--')\n",
        "plt.axvline(np.median(num_of_study_hours), color='g', linestyle='--')\n",
        "\n",
        "plt.axhline(stats.mode(exam_scores)[0], color='b', linestyle='--')\n",
        "plt.axvline(stats.mode(num_of_study_hours)[0], color='b', linestyle='--')\n",
        "\n",
        "plt.xlabel('Number of Study Hours')\n",
        "plt.ylabel('Exam Scores')\n",
        "plt.title('Relationship between Study Hours and Exam Scores')\n",
        "plt.show()\n",
        "\n",
        "print(\"Mean:\", np.mean(exam_scores))\n",
        "print(\"Median:\", np.median(num_of_study_hours))\n",
        "print(\"Mode:\", stats.mode(exam_scores)[0])"
      ],
      "metadata": {
        "colab": {
          "base_uri": "https://localhost:8080/",
          "height": 524
        },
        "id": "58iIBjcR_VCh",
        "outputId": "c5a43ddd-0023-476a-d58c-3250bbf379d1"
      },
      "execution_count": null,
      "outputs": [
        {
          "output_type": "display_data",
          "data": {
            "text/plain": [
              "<Figure size 640x480 with 1 Axes>"
            ],
            "image/png": "[encoded data removed]"
          },
          "metadata": {}
        },
        {
          "output_type": "stream",
          "name": "stdout",
          "text": [
            "Mean: 80.0\n",
            "Median: 4.0\n",
            "Mode: 60\n"
          ]
        }
      ]
    },
    {
      "cell_type": "markdown",
      "source": [
        "14. Determine the standard error of the mean for the sample weights of products in a factory.\n"
      ],
      "metadata": {
        "id": "5BDK3ZtLBDjo"
      }
    },
    {
      "cell_type": "code",
      "source": [
        "import statistics\n",
        "import numpy as np\n",
        "import scipy.stats as stats\n",
        "\n",
        "sample_weights = [50, 55, 60, 65, 70]\n",
        "\n",
        "standard_error = stats.sem(sample_weights)\n",
        "\n",
        "print(\"Standard Error of Mean:\", standard_error)"
      ],
      "metadata": {
        "colab": {
          "base_uri": "https://localhost:8080/"
        },
        "id": "Zy3wEI0qA6AM",
        "outputId": "a85cfba2-3bcd-48f3-f925-1a124c021c04"
      },
      "execution_count": null,
      "outputs": [
        {
          "output_type": "stream",
          "name": "stdout",
          "text": [
            "Standard Error of Mean: 3.5355339059327373\n"
          ]
        }
      ]
    },
    {
      "cell_type": "markdown",
      "source": [
        "15. Find the outliers in the dataset of monthly electricity consumption for households in a neighborhood using the IQR method.\n"
      ],
      "metadata": {
        "id": "QCMOU0tDBOAw"
      }
    },
    {
      "source": [
        "import statistics\n",
        "import scipy.stats as stats\n",
        "import numpy as np\n",
        "\n",
        "monthly_electricity_consumption = [50, 60, 70, 80, 90]\n",
        "\n",
        "q1, q3 = np.percentile(monthly_electricity_consumption, [25, 75])\n",
        "iqr = q3 - q1\n",
        "\n",
        "lower_bound = q1 - 1.5 * iqr\n",
        "upper_bound = q3 + 1.5 * iqr\n",
        "\n",
        "outliers = [value for value in monthly_electricity_consumption if value < lower_bound or value > upper_bound]\n",
        "\n",
        "print(\"Outliers:\", outliers)"
      ],
      "cell_type": "code",
      "metadata": {
        "colab": {
          "base_uri": "https://localhost:8080/"
        },
        "id": "b62OGOr5B5qu",
        "outputId": "b817c084-f2c0-4f5d-d8d1-9fe4b905ea28"
      },
      "execution_count": null,
      "outputs": [
        {
          "output_type": "stream",
          "name": "stdout",
          "text": [
            "Outliers: []\n"
          ]
        }
      ]
    },
    {
      "cell_type": "markdown",
      "source": [
        "16. Calculate the z-scores for the heights of players in a basketball team.\n"
      ],
      "metadata": {
        "id": "3pyqpX6GCqJJ"
      }
    },
    {
      "cell_type": "code",
      "source": [
        "import statistics\n",
        "import numpy as np\n",
        "import scipy.stats as stats\n",
        "\n",
        "heights = [175, 180, 170, 178, 165]\n",
        "\n",
        "z_scores = stats.zscore(heights)\n",
        "\n",
        "print(\"Z-Scores:\", z_scores)"
      ],
      "metadata": {
        "colab": {
          "base_uri": "https://localhost:8080/"
        },
        "id": "K2LNHpUmB72_",
        "outputId": "94e63b9b-19fe-414d-85b3-08df54aac38b"
      },
      "execution_count": null,
      "outputs": [
        {
          "output_type": "stream",
          "name": "stdout",
          "text": [
            "Z-Scores: [ 0.25628821  1.17160324 -0.65902682  0.80547723 -1.57434186]\n"
          ]
        }
      ]
    },
    {
      "cell_type": "markdown",
      "source": [
        "17. Determine the coefficient of determination (R^2) for the relationship between advertising expenditure and sales revenue.\n"
      ],
      "metadata": {
        "id": "4SUb7DsmC1Ek"
      }
    },
    {
      "cell_type": "code",
      "source": [
        "import statistics\n",
        "import math\n",
        "import numpy as np\n",
        "import scipy.stats as stats\n",
        "\n",
        "coefficient_of_determination = 0.75\n",
        "standard_error = 0.1\n",
        "advertising_expenditure = [100, 110, 120, 130, 140]\n",
        "sales_revenue = [150, 160, 170, 180, 190]\n",
        "\n",
        "slope, intercept, r_value, p_value, std_err = stats.linregress(advertising_expenditure, sales_revenue)\n",
        "\n",
        "print(\"R^2:\", r_value**2)\n",
        "print(\"sales revenue\",sales_revenue)\n",
        "print(\"advertising expenditure\",advertising_expenditure)"
      ],
      "metadata": {
        "colab": {
          "base_uri": "https://localhost:8080/"
        },
        "id": "vAn54V40CwUa",
        "outputId": "00475743-2603-4a23-e87b-7775feaee686"
      },
      "execution_count": null,
      "outputs": [
        {
          "output_type": "stream",
          "name": "stdout",
          "text": [
            "R^2: 1.0\n",
            "sales revenue [150, 160, 170, 180, 190]\n",
            "advertising expenditure [100, 110, 120, 130, 140]\n"
          ]
        }
      ]
    },
    {
      "cell_type": "markdown",
      "source": [
        "18. Construct a pie chart to display the proportions of different categories of products sold in a store.\n"
      ],
      "metadata": {
        "id": "ShY7YeRfDj5J"
      }
    },
    {
      "source": [
        "import matplotlib.pyplot as plt\n",
        "\n",
        "# Sample data\n",
        "categories = ['Category A', 'Category B', 'Category C', 'Category D']\n",
        "sales = [25, 35, 15, 25]\n",
        "\n",
        "# Create pie chart\n",
        "plt.pie(sales, labels=categories, autopct='%1.1f%%', startangle=90)\n",
        "plt.axis('equal')  # Equal aspect ratio ensures that pie is drawn as a circle.\n",
        "\n",
        "plt.title('Sales by Category')\n",
        "plt.show()\n",
        "\n"
      ],
      "cell_type": "code",
      "metadata": {
        "colab": {
          "base_uri": "https://localhost:8080/",
          "height": 428
        },
        "id": "BvyLhIL2D1_S",
        "outputId": "b3a496f2-8835-4ae5-f117-fd79ccc81868"
      },
      "execution_count": null,
      "outputs": [
        {
          "output_type": "display_data",
          "data": {
            "text/plain": [
              "<Figure size 640x480 with 1 Axes>"
            ],
            "image/png": "[encoded data removed]"
          },
          "metadata": {}
        }
      ]
    },
    {
      "cell_type": "markdown",
      "source": [
        "19. Calculate the covariance between the number of years of experience and the performance ratings of employees."
      ],
      "metadata": {
        "id": "JIyYG1LoEGub"
      }
    },
    {
      "cell_type": "code",
      "source": [
        "import statistics\n",
        "import numpy as np\n",
        "import scipy.stats as stats\n",
        "\n",
        "yrs_of_exp = [2, 3, 4, 5, 6]\n",
        "perf_ratings = [85, 90, 95, 100, 105]\n",
        "\n",
        "covariance = np.cov(yrs_of_exp, perf_ratings)[0, 1]\n",
        "\n",
        "print(\"Covariance:\", covariance)"
      ],
      "metadata": {
        "colab": {
          "base_uri": "https://localhost:8080/"
        },
        "id": "8_7_ROpYD9Sv",
        "outputId": "9a01ffbd-922b-4ca6-a603-6a2d54d8de3e"
      },
      "execution_count": null,
      "outputs": [
        {
          "output_type": "stream",
          "name": "stdout",
          "text": [
            "Covariance: 12.5\n"
          ]
        }
      ]
    },
    {
      "cell_type": "markdown",
      "source": [
        "20. Perform a descriptive analysis of the data on the number of visitors to a website over the past year, including measures of central tendency, dispersion, and data visualization.\n"
      ],
      "metadata": {
        "id": "dBKjiKKAEajL"
      }
    },
    {
      "cell_type": "code",
      "source": [
        "import statistics\n",
        "import numpy as np\n",
        "import scipy.stats as stats\n",
        "\n",
        "num_of_visitors = [100, 110, 120, 130, 140]\n",
        "\n",
        "measures_of_central_tendency = [np.mean(num_of_visitors), np.median(num_of_visitors), stats.mode(num_of_visitors)[0]]\n",
        "\n",
        "measures_of_dispersion = [statistics.stdev(num_of_visitors), statistics.variance(num_of_visitors)]\n",
        "\n",
        "print(\"Measures of Central Tendency:\", measures_of_central_tendency)\n",
        "print(\"Measures of Dispersion:\", measures_of_dispersion)"
      ],
      "metadata": {
        "colab": {
          "base_uri": "https://localhost:8080/"
        },
        "id": "-oZbc-kYEWmE",
        "outputId": "26c94e57-8ba2-4460-e368-6387f0afe390"
      },
      "execution_count": null,
      "outputs": [
        {
          "output_type": "stream",
          "name": "stdout",
          "text": [
            "Measures of Central Tendency: [120.0, 120.0, 100]\n",
            "Measures of Dispersion: [15.811388300841896, 250]\n"
          ]
        }
      ]
    },
    {
      "cell_type": "markdown",
      "source": [
        "These queries encompass a range of descriptive statistical analyses, including measures of central tendency, variability, correlation, and data visualization."
      ],
      "metadata": {
        "id": "afkX7_eVE5Iu"
      }
    },
    {
      "cell_type": "code",
      "source": [],
      "metadata": {
        "id": "-ybfdz8nEug3"
      },
      "execution_count": null,
      "outputs": []
    }
  ]
}