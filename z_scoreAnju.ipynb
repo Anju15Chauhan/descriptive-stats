{
  "nbformat": 4,
  "nbformat_minor": 0,
  "metadata": {
    "colab": {
      "provenance": [],
      "authorship_tag": "ABX9TyNGFhcwuN9ggTl8175lsYg8",
      "include_colab_link": true
    },
    "kernelspec": {
      "name": "python3",
      "display_name": "Python 3"
    },
    "language_info": {
      "name": "python"
    }
  },
  "cells": [
    {
      "cell_type": "markdown",
      "metadata": {
        "id": "view-in-github",
        "colab_type": "text"
      },
      "source": [
        "<a href=\"https://colab.research.google.com/github/Anju15Chauhan/descriptive-stats/blob/main/z_scoreAnju.ipynb\" target=\"_parent\"><img src=\"https://colab.research.google.com/assets/colab-badge.svg\" alt=\"Open In Colab\"/></a>"
      ]
    },
    {
      "cell_type": "code",
      "execution_count": null,
      "metadata": {
        "id": "EQX_68Mzg_Tx"
      },
      "outputs": [],
      "source": [
        "import scipy.stats as stats"
      ]
    },
    {
      "cell_type": "markdown",
      "source": [
        "# **Calculate the z-score of a student's test score if the class average is 70 and the standard deviation is 10. The student's score is 85.**"
      ],
      "metadata": {
        "id": "lSxn0dRfiXxL"
      }
    },
    {
      "cell_type": "code",
      "source": [
        "# Define the mean and standard deviation\n",
        "mean = 70\n",
        "std_dev = 10\n",
        "\n",
        "# Define the score\n",
        "score = 85\n",
        "\n",
        "# Calculate the z-score\n",
        "z_score = (score - mean) / std_dev\n",
        "\n",
        "# Print the z-score\n",
        "print(\"Z-score:\", z_score)"
      ],
      "metadata": {
        "colab": {
          "base_uri": "https://localhost:8080/"
        },
        "id": "ZD18Rd9UihCq",
        "outputId": "92318736-cfc8-4ff7-bd55-d51d138b84e9"
      },
      "execution_count": null,
      "outputs": [
        {
          "output_type": "stream",
          "name": "stdout",
          "text": [
            "Z-score: 1.5\n"
          ]
        }
      ]
    },
    {
      "cell_type": "markdown",
      "source": [
        "**2.Determine the z-score for a person’s weight given that the mean weight is 150 lbs with a standard deviation of 20 lbs. The person weighs 170 lbs.**"
      ],
      "metadata": {
        "id": "fqXOsfrinP-F"
      }
    },
    {
      "cell_type": "code",
      "source": [
        "import scipy.stats as stats\n",
        "\n",
        "# Define the mean and standard deviation\n",
        "mean = 150\n",
        "std_dev = 20\n",
        "\n",
        "# Define the weight\n",
        "weight = 170\n",
        "\n",
        "# Calculate the z-score\n",
        "z_score = (weight - mean) / std_dev / std_dev\n",
        "\n",
        "# Print the z-score\n",
        "print(\"Z-score:\", z_score)"
      ],
      "metadata": {
        "colab": {
          "base_uri": "https://localhost:8080/"
        },
        "id": "qr4rA7wFmlc6",
        "outputId": "390776eb-3a65-49ee-9db5-8fcbf4059acb"
      },
      "execution_count": null,
      "outputs": [
        {
          "output_type": "stream",
          "name": "stdout",
          "text": [
            "Z-score: 0.05\n"
          ]
        }
      ]
    },
    {
      "cell_type": "markdown",
      "source": [
        "3.Find the z-score of a height measurement of 68 inches when the population mean height is 65 inches with a standard deviation of 3 inches.\n"
      ],
      "metadata": {
        "id": "S_AETJuJpsY3"
      }
    },
    {
      "cell_type": "code",
      "source": [
        "# Define the mean and standard deviation\n",
        "\n",
        "mean = 65\n",
        "std_dev = 3\n",
        "\n",
        "# Define the height\n",
        "height = 68\n",
        "\n",
        "# Calculate the z-score\n",
        "z_score = (height - mean) / std_dev\n",
        "\n",
        "# Print the z-score\n",
        "print(\"Z-score:\", z_score)"
      ],
      "metadata": {
        "colab": {
          "base_uri": "https://localhost:8080/"
        },
        "id": "0k-AkxrdowxU",
        "outputId": "5282362d-02bd-4d70-b4cc-ad269697bb43"
      },
      "execution_count": null,
      "outputs": [
        {
          "output_type": "stream",
          "name": "stdout",
          "text": [
            "Z-score: 1.0\n"
          ]
        }
      ]
    },
    {
      "cell_type": "markdown",
      "source": [
        "4.Calculate the z-score for a temperature reading of 85°F given the mean temperature is 75°F with a standard deviation of 5°F.\n",
        "\n"
      ],
      "metadata": {
        "id": "-R4j3BAUqTeS"
      }
    },
    {
      "cell_type": "code",
      "source": [
        "# Define the mean and standard deviation\n",
        "\n",
        "mean = 75\n",
        "std_dev = 5\n",
        "\n",
        "# Define the temperature\n",
        "temperature = 85\n",
        "\n",
        "# Calculate the z-score\n",
        "z_score = (temperature - mean) / std_dev\n",
        "\n",
        "# Print the z-score\n",
        "print(\"Z-score:\", z_score)"
      ],
      "metadata": {
        "colab": {
          "base_uri": "https://localhost:8080/"
        },
        "id": "HC3wjs8CqJI3",
        "outputId": "52a8ea3f-6da6-4c3e-ed2e-0c34ca3e5e7b"
      },
      "execution_count": null,
      "outputs": [
        {
          "output_type": "stream",
          "name": "stdout",
          "text": [
            "Z-score: 2.0\n"
          ]
        }
      ]
    },
    {
      "cell_type": "markdown",
      "source": [
        "5.Determine the z-score of a player's batting average of 0.300 when the league average is 0.250 with a standard deviation of 0.020."
      ],
      "metadata": {
        "id": "rCO8K4I7q5fO"
      }
    },
    {
      "cell_type": "code",
      "source": [
        "# Define the mean and standard deviation\n",
        "\n",
        "mean = 0.250\n",
        "std_dev = 0.020\n",
        "\n",
        "# Define the batting average\n",
        "batting_average = 0.300\n",
        "\n",
        "# Calculate the z-score\n",
        "\n",
        "z_score = (batting_average - mean) / std_dev\n",
        "\n",
        "# Print the z-score\n",
        "print(\"Z-score:\", z_score)\n",
        "\n",
        "\n"
      ],
      "metadata": {
        "colab": {
          "base_uri": "https://localhost:8080/"
        },
        "id": "59CZE7yLqvwR",
        "outputId": "3587a8b4-dd7d-4b4a-956e-8d858a22ae3c"
      },
      "execution_count": null,
      "outputs": [
        {
          "output_type": "stream",
          "name": "stdout",
          "text": [
            "Z-score: 2.4999999999999996\n"
          ]
        }
      ]
    },
    {
      "cell_type": "markdown",
      "source": [
        "6.Find the z-score for a house price of $350,000 in a neighborhood where the average price is $300,000 with a standard deviation of $40,000.\n"
      ],
      "metadata": {
        "id": "BlEYMNkaruoo"
      }
    },
    {
      "cell_type": "code",
      "source": [
        "# Define the mean and standard deviation\n",
        "\n",
        "mean = 300000\n",
        "std_dev = 40000\n",
        "\n",
        "# Define the house price\n",
        "house_price = 35000\n",
        "\n",
        "# Calculate the z-score\n",
        "z_score = (house_price - mean) / std_dev\n",
        "\n",
        "# Print the z-score\n",
        "print(\"Z-score:\", z_score)"
      ],
      "metadata": {
        "colab": {
          "base_uri": "https://localhost:8080/"
        },
        "id": "QdRP03tirgH8",
        "outputId": "393fdd69-664f-4e1a-e9c0-c7854a4644a1"
      },
      "execution_count": null,
      "outputs": [
        {
          "output_type": "stream",
          "name": "stdout",
          "text": [
            "Z-score: -6.625\n"
          ]
        }
      ]
    },
    {
      "cell_type": "markdown",
      "source": [
        "7.Calculate the z-score for an IQ score of 130 if the mean IQ score is 100 with a standard deviation of 15.\n"
      ],
      "metadata": {
        "id": "tWwUjV7msHHP"
      }
    },
    {
      "cell_type": "code",
      "source": [
        "# Define the mean and standard deviation\n",
        "\n",
        "mean = 100\n",
        "std_dev = 15\n",
        "\n",
        "# Define the IQ score\n",
        "iq_score = 130\n",
        "\n",
        "# Calculate the z-score\n",
        "z_score = (iq_score - mean) / std_dev\n",
        "\n",
        "# Print the z-score\n",
        "print(\"Z-score:\", z_score)"
      ],
      "metadata": {
        "colab": {
          "base_uri": "https://localhost:8080/"
        },
        "id": "HZb8EfjAr_26",
        "outputId": "47001b69-59e0-472b-ac40-f95b29a7c295"
      },
      "execution_count": null,
      "outputs": [
        {
          "output_type": "stream",
          "name": "stdout",
          "text": [
            "Z-score: 2.0\n"
          ]
        }
      ]
    },
    {
      "cell_type": "markdown",
      "source": [
        "8.Determine the z-score of a runner's 5k time of 18 minutes given that the mean time is 20 minutes with a standard deviation of 2 minutes.\n",
        "\n"
      ],
      "metadata": {
        "id": "HHIKKTC8sVwm"
      }
    },
    {
      "cell_type": "code",
      "source": [
        "# Define the mean and standard deviation\n",
        "\n",
        "mean = 20\n",
        "std_dev = 2\n",
        "\n",
        "# Define the 5k time\n",
        "time = 18\n",
        "\n",
        "# Calculate the z-score\n",
        "z_score = (time - mean) / std_dev\n",
        "\n",
        "# Print the z-score\n",
        "print(\"Z-score:\", z_score)"
      ],
      "metadata": {
        "colab": {
          "base_uri": "https://localhost:8080/"
        },
        "id": "Keb78mawsQOG",
        "outputId": "ceed208f-405e-4b6d-dfe6-b991e88a9e64"
      },
      "execution_count": null,
      "outputs": [
        {
          "output_type": "stream",
          "name": "stdout",
          "text": [
            "Z-score: -1.0\n"
          ]
        }
      ]
    },
    {
      "cell_type": "markdown",
      "source": [
        "9.Find the z-score for a car's fuel efficiency of 35 mpg if the average fuel efficiency is 30 mpg with a standard deviation of 4 mpg.\n"
      ],
      "metadata": {
        "id": "0kUGduVgsiyI"
      }
    },
    {
      "cell_type": "code",
      "source": [
        "# Define the mean and standard deviation\n",
        "\n",
        "mean = 30\n",
        "std_dev = 4\n",
        "\n",
        "# Define the fuel efficiency\n",
        "fuel_efficiency = 35\n",
        "\n",
        "# Calculate the z-score\n",
        "z_score = (fuel_efficiency - mean) / std_dev\n",
        "\n",
        "# Print the z-score\n",
        "print(\"Z-score:\", z_score)\n",
        "\n",
        "\n",
        "\n",
        "\n",
        "\n",
        "\n",
        "\n",
        "\n"
      ],
      "metadata": {
        "colab": {
          "base_uri": "https://localhost:8080/"
        },
        "id": "px-5-GeBseEJ",
        "outputId": "e1e27ff3-fb50-4899-feaf-d741ab26d07d"
      },
      "execution_count": null,
      "outputs": [
        {
          "output_type": "stream",
          "name": "stdout",
          "text": [
            "Z-score: 1.25\n"
          ]
        }
      ]
    },
    {
      "cell_type": "markdown",
      "source": [
        "10.Calculate the z-score of a student's SAT score of 1400 when the average SAT score is 1200 with a standard deviation of 100.\n",
        "\n"
      ],
      "metadata": {
        "id": "--bqY3zitHUc"
      }
    },
    {
      "cell_type": "code",
      "source": [
        "# Define the mean and standard deviation\n",
        "\n",
        "mean = 1200\n",
        "std_dev = 100\n",
        "\n",
        "# Define the SAT score\n",
        "sat_score = 1400\n",
        "\n",
        "# Calculate the z-score\n",
        "z_score = (sat_score - mean) / std_dev\n",
        "\n",
        "# Print the z-score\n",
        "print(\"Z-score:\", z_score)"
      ],
      "metadata": {
        "colab": {
          "base_uri": "https://localhost:8080/"
        },
        "id": "14ftHpx6tCsY",
        "outputId": "b01b92cc-e6c1-4421-d6be-1201b2919cae"
      },
      "execution_count": null,
      "outputs": [
        {
          "output_type": "stream",
          "name": "stdout",
          "text": [
            "Z-score: 2.0\n"
          ]
        }
      ]
    },
    {
      "cell_type": "markdown",
      "source": [
        "11.Determine the z-score for a monthly rent of $1,200 when the mean rent in the area is $1,000 with a standard deviation of $150.\n"
      ],
      "metadata": {
        "id": "93IyFc75tjMy"
      }
    },
    {
      "cell_type": "code",
      "source": [
        "# Define the mean and standard deviation\n",
        "\n",
        "mean = 1000\n",
        "std_dev = 150\n",
        "\n",
        "# Define the monthly rent\n",
        "rent = 1200\n",
        "\n",
        "# Calculate the z-score\n",
        "z_score = (rent - mean) / std_dev\n",
        "\n",
        "# Print the z-score\n",
        "print(\"Z-score:\", z_score)\n"
      ],
      "metadata": {
        "colab": {
          "base_uri": "https://localhost:8080/"
        },
        "id": "d6VpGW3ztQBt",
        "outputId": "1834ac59-a10a-4c4e-fe2f-a8de2ca5f693"
      },
      "execution_count": null,
      "outputs": [
        {
          "output_type": "stream",
          "name": "stdout",
          "text": [
            "Z-score: 1.3333333333333333\n"
          ]
        }
      ]
    },
    {
      "cell_type": "markdown",
      "source": [
        "12.Find the z-score of a company’s annual revenue of $2 million if the average revenue is $1.5 million with a standard deviation of $0.3 million.\n",
        "\n"
      ],
      "metadata": {
        "id": "wPk9E9K7ty9q"
      }
    },
    {
      "cell_type": "code",
      "source": [
        "# Define the mean and standard deviation\n",
        "\n",
        "mean = 1500000\n",
        "std_dev = 300000\n",
        "\n",
        "# Define the annual revenue\n",
        "revenue = 2000000\n",
        "\n",
        "# Calculate the z-score\n",
        "z_score = (revenue - mean) / std_dev\n",
        "\n",
        "# Print the z-score\n",
        "print(\"Z-score:\", z_score)\n",
        "\n"
      ],
      "metadata": {
        "colab": {
          "base_uri": "https://localhost:8080/"
        },
        "id": "RPd1QVrBtvYp",
        "outputId": "d98b6e24-752f-4949-fab2-40f027f1f8ac"
      },
      "execution_count": null,
      "outputs": [
        {
          "output_type": "stream",
          "name": "stdout",
          "text": [
            "Z-score: 1.6666666666666667\n"
          ]
        }
      ]
    },
    {
      "cell_type": "markdown",
      "source": [
        "13.Calculate the z-score for a stock's return of 10% when the average return is 7% with a standard deviation of 2%.\n"
      ],
      "metadata": {
        "id": "nemlPjuuvKHb"
      }
    },
    {
      "cell_type": "code",
      "source": [
        "# Define the mean and standard deviation\n",
        "\n",
        "mean = 7\n",
        "std_dev = 2\n",
        "\n",
        "# Define the stock return\n",
        "stock_return = 10\n",
        "\n",
        "# Calculate the z-score\n",
        "z_score = (stock_return - mean) / std_dev\n",
        "\n",
        "# Print the z-score\n",
        "print(\"Z-score:\", z_score)"
      ],
      "metadata": {
        "colab": {
          "base_uri": "https://localhost:8080/"
        },
        "id": "I9ev-gHVt8OT",
        "outputId": "9b403a25-c084-46fc-b31a-d4d5c5f4adc7"
      },
      "execution_count": null,
      "outputs": [
        {
          "output_type": "stream",
          "name": "stdout",
          "text": [
            "Z-score: 1.5\n"
          ]
        }
      ]
    },
    {
      "cell_type": "markdown",
      "source": [
        "14.Determine the z-score for a book's page count of 450 pages given that the average page count is 300 with a standard deviation of 100.\n",
        "\n"
      ],
      "metadata": {
        "id": "OY5_sXsBvWnr"
      }
    },
    {
      "cell_type": "code",
      "source": [
        "# Define the mean and standard deviation\n",
        "\n",
        "mean = 300\n",
        "std_dev = 100\n",
        "\n",
        "# Define the book page count\n",
        "page_count = 450\n",
        "\n",
        "# Calculate the z-score\n",
        "z_score = (page_count - mean) / std_dev\n",
        "\n",
        "# Print the z-score\n",
        "print(\"Z-score:\", z_score)"
      ],
      "metadata": {
        "colab": {
          "base_uri": "https://localhost:8080/"
        },
        "id": "02JHx2qkvSBD",
        "outputId": "9033ec2c-8f01-4b6e-9169-3ca915956d01"
      },
      "execution_count": null,
      "outputs": [
        {
          "output_type": "stream",
          "name": "stdout",
          "text": [
            "Z-score: 1.5\n"
          ]
        }
      ]
    },
    {
      "cell_type": "markdown",
      "source": [
        "15.Find the z-score for a city’s population growth rate of 3% when the average growth rate is 2% with a standard deviation of 0.5%.\n"
      ],
      "metadata": {
        "id": "32WpsBWyvnRE"
      }
    },
    {
      "cell_type": "code",
      "source": [
        "# Define the mean and standard deviation\n",
        "\n",
        "mean = 2\n",
        "std_dev = 0.5\n",
        "\n",
        "# Define the city population growth rate\n",
        "population_growth_rate = 3\n",
        "\n",
        "# Calculate the z-score\n",
        "z_score = (population_growth_rate - mean) / std_dev\n",
        "\n",
        "# Print the z-score\n",
        "print(\"Z-score:\", z_score)"
      ],
      "metadata": {
        "colab": {
          "base_uri": "https://localhost:8080/"
        },
        "id": "7e_ean77vkUW",
        "outputId": "90dba8a9-eb31-42ce-d1ee-c2a731474950"
      },
      "execution_count": null,
      "outputs": [
        {
          "output_type": "stream",
          "name": "stdout",
          "text": [
            "Z-score: 2.0\n"
          ]
        }
      ]
    },
    {
      "cell_type": "markdown",
      "source": [
        "16.Calculate the z-score for a player's points per game of 25 when the league average is 20 with a standard deviation of 3.\n"
      ],
      "metadata": {
        "id": "tfUi7WWKv-Fz"
      }
    },
    {
      "cell_type": "code",
      "source": [
        "# Define the mean and standard deviation\n",
        "\n",
        "mean = 20\n",
        "std_dev = 3\n",
        "\n",
        "# Define the player points\n",
        "points_per_game = 25\n",
        "\n",
        "# Calculate the z-score\n",
        "z_score = (points_per_game - mean) / std_dev\n",
        "\n",
        "# Print the z-score\n",
        "print(\"Z-score:\", z_score)"
      ],
      "metadata": {
        "colab": {
          "base_uri": "https://localhost:8080/"
        },
        "id": "GZI5balnv4kP",
        "outputId": "72e850fc-f562-4546-fdf6-8304722d67a3"
      },
      "execution_count": null,
      "outputs": [
        {
          "output_type": "stream",
          "name": "stdout",
          "text": [
            "Z-score: 1.6666666666666667\n"
          ]
        }
      ]
    },
    {
      "cell_type": "markdown",
      "source": [
        "17.Determine the z-score of a salesman's quarterly sales of $50,000 if the mean quarterly sales are $40,000 with a standard deviation of $8,000.\n"
      ],
      "metadata": {
        "id": "TEOpN4K_wWA2"
      }
    },
    {
      "cell_type": "code",
      "source": [
        "# define the mean and standard deviation\n",
        "\n",
        "mean = 40000\n",
        "std_dev = 8000\n",
        "\n",
        "# Define the salesman's quarterly sales\n",
        "quarterly_sales = 50000\n",
        "\n",
        "# Calculate the z-score\n",
        "z_score = (quarterly_sales - mean) / std_dev\n",
        "\n",
        "# Print the z-score\n",
        "print(\"Z-score:\", z_score)"
      ],
      "metadata": {
        "colab": {
          "base_uri": "https://localhost:8080/"
        },
        "id": "pRxiwEG6wNF2",
        "outputId": "982e5fab-1921-4b63-9299-5eb4e13f16f1"
      },
      "execution_count": null,
      "outputs": [
        {
          "output_type": "stream",
          "name": "stdout",
          "text": [
            "Z-score: 1.25\n"
          ]
        }
      ]
    },
    {
      "cell_type": "markdown",
      "source": [
        "18.Find the z-score for a project's completion time of 35 days if the average completion time is 40 days with a standard deviation of 5 days.\n",
        "\n"
      ],
      "metadata": {
        "id": "SubU0J0Qwmfs"
      }
    },
    {
      "cell_type": "code",
      "source": [
        "# Define the mean and standard deviation\n",
        "\n",
        "mean = 40\n",
        "std_dev = 5\n",
        "\n",
        "# Define the project completion time\n",
        "completion_time = 35\n",
        "\n",
        "# Calculate the z-score\n",
        "z_score = (completion_time - mean) / std_dev\n",
        "\n",
        "# Print the z-score\n",
        "print(\"Z-score:\", z_score)"
      ],
      "metadata": {
        "colab": {
          "base_uri": "https://localhost:8080/"
        },
        "id": "U9q73umNwf6N",
        "outputId": "d17e6180-d813-4d04-b26d-29d0e6315272"
      },
      "execution_count": null,
      "outputs": [
        {
          "output_type": "stream",
          "name": "stdout",
          "text": [
            "Z-score: -1.0\n"
          ]
        }
      ]
    },
    {
      "cell_type": "markdown",
      "source": [
        "19.Calculate the z-score of a city's average annual rainfall of 50 inches when the mean is 45 inches with a standard deviation of 8 inches.\n"
      ],
      "metadata": {
        "id": "hX8Gfj1uw1JO"
      }
    },
    {
      "cell_type": "code",
      "source": [
        "# Define the mean and standard deviation\n",
        "\n",
        "mean = 45\n",
        "std_dev = 8\n",
        "\n",
        "# Define the city average annual rainfall\n",
        "average_annual_rainfall = 50\n",
        "\n",
        "# Calculate the z-score\n",
        "z_score = (average_annual_rainfall - mean) / std_dev\n",
        "\n",
        "# Print the z-score\n",
        "print(\"Z-score:\", z_score)"
      ],
      "metadata": {
        "colab": {
          "base_uri": "https://localhost:8080/"
        },
        "id": "SX-cuhkHwwiK",
        "outputId": "a35f881d-dcba-40b4-f161-41a39592ddb9"
      },
      "execution_count": null,
      "outputs": [
        {
          "output_type": "stream",
          "name": "stdout",
          "text": [
            "Z-score: 0.625\n"
          ]
        }
      ]
    },
    {
      "cell_type": "markdown",
      "source": [
        "20.Determine the z-score for a marathon time of 3.5 hours given that the average marathon time is 4 hours with a standard deviation of 0.5 hours.\n",
        "\n"
      ],
      "metadata": {
        "id": "3eswh6nexEpN"
      }
    },
    {
      "cell_type": "code",
      "source": [
        "# Define the mean and standard deviation\n",
        "\n",
        "mean = 4\n",
        "std_dev = 0.5\n",
        "\n",
        "# Define the marathon time\n",
        "marathon_time = 3.5\n",
        "\n",
        "# Calculate the z-score\n",
        "z_score = (marathon_time - mean) / std_dev\n",
        "\n",
        "# Print the z-score\n",
        "print(\"Z-score:\", z_score)"
      ],
      "metadata": {
        "colab": {
          "base_uri": "https://localhost:8080/"
        },
        "id": "pC3fA4G2xAOr",
        "outputId": "3f18c023-f91e-4b14-ed21-ea180e65ba1d"
      },
      "execution_count": null,
      "outputs": [
        {
          "output_type": "stream",
          "name": "stdout",
          "text": [
            "Z-score: -1.0\n"
          ]
        }
      ]
    },
    {
      "cell_type": "code",
      "source": [],
      "metadata": {
        "id": "skyOAIlfxO33"
      },
      "execution_count": null,
      "outputs": []
    }
  ]
}